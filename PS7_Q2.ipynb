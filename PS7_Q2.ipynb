{
 "cells": [
  {
   "cell_type": "code",
   "execution_count": 12,
   "metadata": {
    "collapsed": false
   },
   "outputs": [],
   "source": [
    "%matplotlib inline \n",
    "import matplotlib.pyplot as plt\n",
    "import numpy as np\n",
    "import scipy.sparse as sps\n",
    "from scipy.sparse import linalg\n",
    "import scipy.sparse.linalg "
   ]
  },
  {
   "cell_type": "code",
   "execution_count": 13,
   "metadata": {
    "collapsed": false
   },
   "outputs": [],
   "source": [
    "def nestdiff(n):\n",
    "    a = (np.array([np.arange(1,n**2+1)]).reshape(n,n)).astype(int)\n",
    "    N = n**2\n",
    "    a = a[::-1]\n",
    "    b = np.zeros((n,n), dtype=int) \n",
    "    \n",
    "    k = int(np.floor(n/2))  # middle column \n",
    "    b[:,k] = np.hstack([np.arange(N,N-n,-1)])\n",
    "    lt1 = int((N-n)/(n-1)) * k #(N-n)/2\n",
    "    \n",
    "    sr1 = 0 #starting point where we insert T: starting row for T1\n",
    "    sc1 = 0 # start column\n",
    "    sr2 = 0 #starting point where we insert T (in this case to the right of center column in b)\n",
    "    sc2 = k+1\n",
    "    #size of each element inside T\n",
    "    nr1 = n\n",
    "    nr2 = n\n",
    "    nc1 = k\n",
    "    nc2 = n-k-1\n",
    "    min1 = 1\n",
    "    max1 = lt1\n",
    "    min2 = lt1+1\n",
    "    max2 = N-n\n",
    "    mt = np.array([[nr1,nc1,min1,max1,sr1,sc1],[nr2,nc2,min2,max2,sr2,sc2]], dtype=int) \n",
    "   \n",
    "    while(len(b[b>0]) < n**2): # filling the left side of b #(n**2 - T2.shape[0] * T2.shape[1] )     #n**2):\n",
    "    \n",
    "        b,mt = split(b,mt)\n",
    "\n",
    "    p = np.zeros(n**2, dtype=int)    \n",
    "    for i in range(n):\n",
    "        for j in range(n):\n",
    "            p[b[i,j]-1] = a[i,j]\n",
    "    \n",
    "    return p"
   ]
  },
  {
   "cell_type": "code",
   "execution_count": 14,
   "metadata": {
    "collapsed": false
   },
   "outputs": [],
   "source": [
    "def split(b,mt1):\n",
    "    #this matrix has all info about elements matrix T\n",
    "    # mt1 = np.array([[nr1,nc1,min1,max1,str1,stc1],[nr2,nc2,min2,max2,str2,stc2]], dtype=int)   \n",
    "    elem = mt1.shape[0]\n",
    "    # mt is updated mt1\n",
    "    mt = np.zeros((0,6), dtype=int)   \n",
    "    for j in range(elem):\n",
    "        #print('j=',j)\n",
    "        n = mt1[j,0]\n",
    "        m = mt1[j,1]\n",
    "        # one d array of all elements in T[j]\n",
    "        p = np.array([np.arange(mt1[j,2],mt1[j,3]+1)], dtype=int)\n",
    "        if(n>m or n==m):\n",
    "            mid = int(np.floor(n/2))\n",
    "            #middle row or column which has highest values\n",
    "            tm = np.array((m), dtype=int)\n",
    "            t = np.zeros((0,m), dtype=int)\n",
    "            t2min = mt1[j,2]\n",
    "            t2max = (n-mid-1)*m-1 + t2min\n",
    "            t1min = t2max + 1\n",
    "            t1max = mid*m-1 + t1min\n",
    "            t1 = np.array([np.arange(t1min,t1max+1)])\n",
    "            t1 = t1.reshape(mid,m)\n",
    "            t1 = t1[::-1]\n",
    "            \n",
    "            t2 = np.array([np.arange(t2min,t2max+1)])\n",
    "            t2 = t2.reshape(n-mid-1,m)\n",
    "            t2 = t2[::-1]\n",
    "            tm = p[0,m*n-m:]\n",
    "\n",
    "            t = np.append(t, t1, axis=0) \n",
    "            t = np.append(t, t2, axis=0)\n",
    "            t = np.insert(t, mid, tm, axis=0)\n",
    "        # m>n\n",
    "        else:\n",
    "            mid = int(np.floor(m/2))\n",
    "            tm = np.array((n), dtype=int)\n",
    "            t = np.zeros((n,0), dtype=int)\n",
    "            t2min = mt1[j,2]\n",
    "            t2max = n*(m-mid-1)-1 + t2min\n",
    "            t1min = t2max + 1\n",
    "            t1max = n*mid-1 + t1min\n",
    "            \n",
    "            t1 = np.array([np.arange(t1min,t1max+1)])\n",
    "            t1 = t1.reshape(n,mid)\n",
    "            t1 = t1[::-1]\n",
    "        \n",
    "            t2 = np.array([np.arange(t2min,t2max+1)])\n",
    "            t2 = t2.reshape(n,m-mid-1)\n",
    "            t2 = t2[::-1]\n",
    "            tm = p[0,m*n-n:]\n",
    "           \n",
    "            t = np.append(t, t1, axis=1)\n",
    "            t = np.append(t, t2, axis=1)\n",
    "            t = np.insert(t, mid, tm, axis=1)\n",
    "        #\n",
    "        t1n = t1.shape[0]\n",
    "        t1m = t1.shape[1]\n",
    "        t2n = t2.shape[0]\n",
    "        t2m = t2.shape[1]        \n",
    "        # shape of t1 and t2 smaller than 3x3, update b with whole t\n",
    "        if((n<= 3 and m<=3) or (m<= 5 and n<=2) or (n<=5 and m<=2)):\n",
    "            # start_end of each element in T\n",
    "            b[mt1[j,4]:mt1[j,4]+n,mt1[j,5]:mt1[j,5]+m] = t\n",
    "        elif((t2n <3 and t2m <3)):\n",
    "            b[mt1[j,4]:mt1[j,4]+n,mt1[j,5]:mt1[j,5]+m] = t \n",
    "        \n",
    "        # add when t2 1 row or 1 column\n",
    "        elif(t2n ==1 or t2m ==1):\n",
    "            if(n>m or n==m):\n",
    "            #if(t2n>t2m):\n",
    "                b[mt1[j,4]+t1n:mt1[j,4]+t1n+2,mt1[j,5]:mt1[j,5]+t2m] = t[n-2:n,:]\n",
    "            else: # m > n\n",
    "                b[mt1[j,4]:mt1[j,4]+n,mt1[j,5]+t1m:mt1[j,5]+m] = t[:,m-2:m]\n",
    "        else:\n",
    "            if(n>m or n==m):\n",
    "                b[mt1[j,4]+mid,mt1[j,5]:mt1[j,5]+m] = t[mid,:]\n",
    "            # m>n\n",
    "            else:\n",
    "                b[mt1[j,4]:mt1[j,4]+n,mt1[j,5]+mid] = t[:,mid]\n",
    "        #add to mt list if size less than or equal 2x3\n",
    "        if((t1n >=2 and t1m >=3) or (t1n>=3 and t1m>=2)):\n",
    "            #[nr1,nc1,min1,max1,sr1,sc1]\n",
    "            min1 = np.min(t1.flatten())\n",
    "            max1 = np.max(t1.flatten())\n",
    "            nr1 = t1n\n",
    "            nc1 = t1m\n",
    "            sr1 = mt1[j,4]\n",
    "            sc1 = mt1[j,5]\n",
    "            mt = np.append(mt, [[nr1,nc1,min1,max1,sr1,sc1]], axis=0)\n",
    "        \n",
    "        if((t2n >=2 and t2m >=3) or (t2n>=3 and t2m>=2)):\n",
    "            min2 = np.min(t2.flatten())\n",
    "            max2 = np.max(t2.flatten())\n",
    "            nr2 = t2n\n",
    "            nc2 = t2m\n",
    "            if(n>m or n==m):\n",
    "                sr2 = mt1[j,4]+t1n+1\n",
    "                sc2 = mt1[j,5] \n",
    "            # m>n\n",
    "            else:\n",
    "                sr2 = mt1[j,4]\n",
    "                sc2 = mt1[j,5]+t1m+1\n",
    "            mt = np.append(mt, [[nr2,nc2,min2,max2,sr2,sc2]], axis=0)\n",
    "        \n",
    "    return b,mt"
   ]
  },
  {
   "cell_type": "code",
   "execution_count": 15,
   "metadata": {
    "collapsed": false
   },
   "outputs": [],
   "source": [
    "def sparse_A(n):\n",
    "    h = 1.0 / (n + 1)\n",
    "    e = np.ones((n))\n",
    "    #A = sps.lil_matrix((n**2,n**2))\n",
    "    A1 = sps.spdiags(np.vstack([-e, 2*e, -e]),\n",
    "                               [-1, 0, 1], n, n)\n",
    "    I = sps.eye(n, n)\n",
    "    A = sps.kron(A1, I) + sps.kron(I, A1)\n",
    "    f = h**2 * np.ones((n**2))\n",
    "    return A, f"
   ]
  },
  {
   "cell_type": "markdown",
   "metadata": {},
   "source": [
    "## a. natural ordering"
   ]
  },
  {
   "cell_type": "code",
   "execution_count": 16,
   "metadata": {
    "collapsed": false
   },
   "outputs": [],
   "source": [
    "n = np.array([10,20,40,80,160,320] ,dtype=int)\n",
    "ln = len(n)\n",
    "nz = np.zeros((3,ln))"
   ]
  },
  {
   "cell_type": "code",
   "execution_count": 17,
   "metadata": {
    "collapsed": false
   },
   "outputs": [],
   "source": [
    "for i in range(ln):\n",
    "    A,f = sparse_A(n[i])\n",
    "    A2 = sps.linalg.splu(A.tocsc(), 'natural')\n",
    "    nz[0,i] = np.count_nonzero(A2.U.tocoo().row) + np.count_nonzero(A2.L.tocoo().row)"
   ]
  },
  {
   "cell_type": "markdown",
   "metadata": {},
   "source": [
    "## b. Approximate minimum degree (colamd)"
   ]
  },
  {
   "cell_type": "code",
   "execution_count": 18,
   "metadata": {
    "collapsed": false
   },
   "outputs": [],
   "source": [
    "for i in range(ln):\n",
    "    A,f = sparse_A(n[i])\n",
    "    A2 = sps.linalg.splu(A.tocsc())\n",
    "    nz[1,i] = np.count_nonzero(A2.U.tocoo().row) + np.count_nonzero(A2.L.tocoo().row)"
   ]
  },
  {
   "cell_type": "markdown",
   "metadata": {},
   "source": [
    "## c. nestdiff"
   ]
  },
  {
   "cell_type": "code",
   "execution_count": 19,
   "metadata": {
    "collapsed": false
   },
   "outputs": [],
   "source": [
    "for i in range(ln):\n",
    "    A,f = sparse_A(n[i])\n",
    "    p = nestdiff(n[i])\n",
    "    A2 = sps.lil_matrix(A.shape)\n",
    "    A2[:,:] = A[:,p-1]\n",
    "    A3 = sps.linalg.splu(A2, 'natural')\n",
    "    nz[2,i] = np.count_nonzero(A3.U.tocoo().row) + np.count_nonzero(A3.L.tocoo().row)"
   ]
  },
  {
   "cell_type": "code",
   "execution_count": 20,
   "metadata": {
    "collapsed": false
   },
   "outputs": [
    {
     "name": "stdout",
     "output_type": "stream",
     "text": [
      "non zeros:\n",
      "[[  2.01400000e+03   1.60340000e+04   1.28074000e+05   1.02415400e+06\n",
      "    8.19231400e+06   6.55366340e+07]\n",
      " [  1.52200000e+03   1.00420000e+04   6.48960000e+04   3.70276000e+05\n",
      "    2.03655600e+06   1.03274360e+07]\n",
      " [  1.58300000e+03   9.77500000e+03   5.65350000e+04   3.06635000e+05\n",
      "    1.57767100e+06   7.78968300e+06]]\n"
     ]
    }
   ],
   "source": [
    "print('non zeros:')\n",
    "print(nz)"
   ]
  },
  {
   "cell_type": "code",
   "execution_count": 21,
   "metadata": {
    "collapsed": false
   },
   "outputs": [
    {
     "data": {
      "image/png": "[encoded data removed]",
      "text/plain": [
       "<matplotlib.figure.Figure at 0x6e306a0>"
      ]
     },
     "metadata": {},
     "output_type": "display_data"
    }
   ],
   "source": [
    "plt.title('total number of non-zeros vs. n')\n",
    "L1,=plt.loglog(n[:],nz[0,:],'r',label='natural',lw=1,marker='o')\n",
    "L2,=plt.loglog(n[:],nz[1,:],'b',label='colamd',lw=1,marker='o')\n",
    "L3,=plt.loglog(n[:],nz[2,:],'g',label='nestdiff',lw=1,marker='o')\n",
    "Leg1=plt.legend(handles=[L1,L2,L3],loc=2)\n",
    "plt.show()"
   ]
  },
  {
   "cell_type": "code",
   "execution_count": 22,
   "metadata": {
    "collapsed": false
   },
   "outputs": [
    {
     "name": "stdout",
     "output_type": "stream",
     "text": [
      "alpha for natural case: 2.99828894203\n",
      "alpha for colamd case: 2.54701009761\n",
      "alpha for nestdiff case: 2.45046275196\n"
     ]
    }
   ],
   "source": [
    "slope1, intercept = np.polyfit(np.log(n[:]),np.log(nz[0,:]),1)\n",
    "slope2, intercept = np.polyfit(np.log(n[:]),np.log(nz[1,:]),1)\n",
    "slope3, intercept = np.polyfit(np.log(n[:]),np.log(nz[2,:]),1)\n",
    "print('alpha for natural case:', slope1)\n",
    "print('alpha for colamd case:', slope2)\n",
    "print('alpha for nestdiff case:', slope3)"
   ]
  },
  {
   "cell_type": "code",
   "execution_count": null,
   "metadata": {
    "collapsed": true
   },
   "outputs": [],
   "source": []
  }
 ],
 "metadata": {
  "kernelspec": {
   "display_name": "Python 3",
   "language": "python",
   "name": "python3"
  },
  "language_info": {
   "codemirror_mode": {
    "name": "ipython",
    "version": 3
   },
   "file_extension": ".py",
   "mimetype": "text/x-python",
   "name": "python",
   "nbconvert_exporter": "python",
   "pygments_lexer": "ipython3",
   "version": "3.4.1"
  }
 },
 "nbformat": 4,
 "nbformat_minor": 0
}
