{
 "metadata": {
  "name": "",
  "signature": "sha256:a171163deebcc3e80f5037dfed34024806152a3765da47fb992305e630db4059"
 },
 "nbformat": 3,
 "nbformat_minor": 0,
 "worksheets": [
  {
   "cells": [
    {
     "cell_type": "markdown",
     "metadata": {},
     "source": [
      "## Question 1"
     ]
    },
    {
     "cell_type": "markdown",
     "metadata": {},
     "source": [
      "## Roe's scheme"
     ]
    },
    {
     "cell_type": "code",
     "collapsed": false,
     "input": [
      "%matplotlib inline\n",
      "import numpy as np\n",
      "import matplotlib.pyplot as plt\n",
      "\n",
      "rumax = 1.0\n",
      "ruL = 0.8\n",
      "umax = 1.0\n",
      "dx = 4/400\n",
      "dt = 0.8*dx/umax\n",
      "\n",
      "m = 400\n",
      "\n",
      "x = dx * np.arange(1, m + 1, dtype=np.float64) - dx/2-2\n",
      "\n",
      "T = 2.0 \n",
      "nsteps = int(round(T/dt))\n",
      "\n",
      "ru = np.zeros((nsteps+1,m))\n",
      "a = np.zeros((m))\n",
      "\n",
      "ru[0,:] = np.double(x < dx) *ruL\n",
      "\n",
      "f = lambda ru: ru*umax*(1-ru/rumax)\n",
      "\n",
      "method = 'Roe'\n",
      "for j in range (0, nsteps):\n",
      "    for i in range (0, m-1):    \n",
      "        a[i]   = umax*(1-(ru[j,i]+ru[j,i+1])/rumax)\n",
      "        a[i-1] = umax*(1-(ru[j,i-1]+ru[j,i])/rumax)\n",
      "        Fp = 0.5*((f(ru[j,i])+f(ru[j,i+1])) - np.abs(a[i])*(ru[j,i+1]-ru[j,i]))\n",
      "        Fm = 0.5*((f(ru[j,i-1])+f(ru[j,i])) - np.abs(a[i-1])*(ru[j,i]-ru[j,i-1]))\n",
      "        if (i==0):\n",
      "            Fm = 0.5*(f(ruL)+f(ruL))\n",
      "        ru[j+1,i] = ru[j,i]-((dt/dx)*(Fp-Fm))\n",
      "ruf = np.zeros((m))\n",
      "ruf = ru[nsteps,0:m] \n",
      "\n",
      "plt.title('ru vs x - Roes scheme')\n",
      "L1,=plt.plot(x,ruf,label='ru final',lw=2)\n",
      "Leg1=plt.legend(handles=[L1],loc=1)\n",
      "plt.show()"
     ],
     "language": "python",
     "metadata": {},
     "outputs": [
      {
       "metadata": {},
       "output_type": "display_data",
       "png": "[encoded data removed]",
       "text": [
        "<matplotlib.figure.Figure at 0x51561d0>"
       ]
      }
     ],
     "prompt_number": 1
    },
    {
     "cell_type": "markdown",
     "metadata": {},
     "source": [
      "## Godunov's scheme"
     ]
    },
    {
     "cell_type": "markdown",
     "metadata": {},
     "source": [
      "to find the maxima of $f(\\rho)$, derive with respect to $\\rho$ and set to zero\n",
      "\n",
      "\n",
      "$f(\\rho) = u_{max} * (\\rho  - \\frac{\\rho^2}{\\rho_{max}})$\n",
      "\n",
      "$ \\frac{df(\\rho)}{d\\rho} = u_{max} *(1 - \\frac{2*\\rho}{\\rho_{max}}) $\n",
      "\n",
      "let $ \\frac{df(\\rho)}{d\\rho} = 0 $\n",
      "\n",
      "$1 - \\frac{2*\\rho}{\\rho_{max}} = 0$\n",
      "\n",
      "$ \\rho = \\frac{\\rho_{max}}{2}$"
     ]
    },
    {
     "cell_type": "code",
     "collapsed": false,
     "input": [
      "def find_F(rho,rho_max,u_max,f):\n",
      "    \n",
      "    Rl = rho[:-1]\n",
      "    Rr = rho[1:]\n",
      "    f_rho = f(rho)\n",
      "    fl = f_rho[:-1]\n",
      "    fr = f_rho[1:]\n",
      "    min_fvals = np.minimum(fl, fr)\n",
      "    max_fvals = np.maximum(fl, fr)\n",
      "    F = np.where(Rl < Rr, min_fvals, max_fvals)\n",
      "    D = (Rr < 0.5 * rho_max) & (0.5 * rho_max < Rl)\n",
      "    F[np.where(D)] = f(rho_max/2) \n",
      "    \n",
      "    return F"
     ],
     "language": "python",
     "metadata": {},
     "outputs": [],
     "prompt_number": 2
    },
    {
     "cell_type": "code",
     "collapsed": false,
     "input": [
      "%matplotlib inline\n",
      "import numpy as np\n",
      "import matplotlib.pyplot as plt\n",
      "\n",
      "rho_max = u_max = 1.0\n",
      "rhoL = 0.8\n",
      "\n",
      "dx = 4/400\n",
      "dt = 0.8*dx/u_max\n",
      "dt_dx = dt/dx\n",
      "m = 400\n",
      "\n",
      "x = dx * np.arange(1, m + 1, dtype=np.float64) - dx/2-2\n",
      "f = lambda r: r * u_max * (1 - r / rho_max)\n",
      "T = 2.0 \n",
      "nsteps = int(round(T/dt))\n",
      "\n",
      "rho = np.zeros((m))\n",
      "rho = np.double(x < dx) *rhoL\n",
      "\n",
      "for j in range (0,nsteps):\n",
      "    F = find_F(rho,rho_max,u_max,f)\n",
      "    rho[1:-1] = rho[1:-1] - dt_dx * (F[1:] - F[:-1])\n",
      "\n",
      "plt.title('rho vs x - Godunov scheme')\n",
      "L1,=plt.plot(x,rho,label='rho final',lw=2)\n",
      "Leg1=plt.legend(handles=[L1],loc=1)\n",
      "plt.show()"
     ],
     "language": "python",
     "metadata": {},
     "outputs": [
      {
       "metadata": {},
       "output_type": "display_data",
       "png": "[encoded data removed]",
       "text": [
        "<matplotlib.figure.Figure at 0x6de28d0>"
       ]
      }
     ],
     "prompt_number": 3
    },
    {
     "cell_type": "markdown",
     "metadata": {},
     "source": [
      "difference in the two methods.\n",
      "\n",
      "the Roe scheme, we can see big shock at x = 0.0, while there is almost negligable shock in Godunov's. This is due to the fault in Roe's scheme and not handeling the shock shown."
     ]
    },
    {
     "cell_type": "code",
     "collapsed": false,
     "input": [],
     "language": "python",
     "metadata": {},
     "outputs": [],
     "prompt_number": 3
    }
   ],
   "metadata": {}
  }
 ]
}