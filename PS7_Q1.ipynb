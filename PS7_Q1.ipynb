{
 "cells": [
  {
   "cell_type": "markdown",
   "metadata": {},
   "source": [
    "## a."
   ]
  },
  {
   "cell_type": "code",
   "execution_count": 1,
   "metadata": {
    "collapsed": false
   },
   "outputs": [],
   "source": [
    "import numpy as np"
   ]
  },
  {
   "cell_type": "code",
   "execution_count": 2,
   "metadata": {
    "collapsed": false
   },
   "outputs": [],
   "source": [
    "def nestdiff(n):\n",
    "    a = (np.array([np.arange(1,n**2+1)]).reshape(n,n)).astype(int)\n",
    "    N = n**2\n",
    "    a = a[::-1]\n",
    "    b = np.zeros((n,n), dtype=int) \n",
    "    print('a matrix')\n",
    "    print(a)\n",
    "    k = int(np.floor(n/2))  # middle column \n",
    "    b[:,k] = np.hstack([np.arange(N,N-n,-1)])\n",
    "    lt1 = int((N-n)/(n-1)) * k #(N-n)/2\n",
    "    \n",
    "    sr1 = 0 #starting point where we insert T: starting row for T1\n",
    "    sc1 = 0 # start column\n",
    "    sr2 = 0 #starting point where we insert T (in this case to the right of center column in b)\n",
    "    sc2 = k+1\n",
    "    #size of each element inside T\n",
    "    nr1 = n\n",
    "    nr2 = n\n",
    "    nc1 = k\n",
    "    nc2 = n-k-1\n",
    "    min1 = 1\n",
    "    max1 = lt1\n",
    "    min2 = lt1+1\n",
    "    max2 = N-n\n",
    "    mt = np.array([[nr1,nc1,min1,max1,sr1,sc1],[nr2,nc2,min2,max2,sr2,sc2]], dtype=int) \n",
    "   \n",
    "    while(len(b[b>0]) < n**2): # filling the left side of b #(n**2 - T2.shape[0] * T2.shape[1] )     #n**2):\n",
    "    \n",
    "        b,mt = split(b,mt)\n",
    "\n",
    "    p = np.zeros(n**2, dtype=int)    \n",
    "    for i in range(n):\n",
    "        for j in range(n):\n",
    "            p[b[i,j]-1] = a[i,j]\n",
    "    print('b')\n",
    "    print(b)\n",
    "    print('p')\n",
    "    print(p)\n",
    "    return b,p"
   ]
  },
  {
   "cell_type": "code",
   "execution_count": 3,
   "metadata": {
    "collapsed": false
   },
   "outputs": [],
   "source": [
    "def split(b,mt1):\n",
    "    #this matrix has all info about elements matrix T\n",
    "    # mt1 = np.array([[nr1,nc1,min1,max1,str1,stc1],[nr2,nc2,min2,max2,str2,stc2]], dtype=int)   \n",
    "    elem = mt1.shape[0]\n",
    "    # mt is updated mt1\n",
    "    mt = np.zeros((0,6), dtype=int)   \n",
    "    for j in range(elem):\n",
    "        #print('j=',j)\n",
    "        n = mt1[j,0]\n",
    "        m = mt1[j,1]\n",
    "        # one d array of all elements in T[j]\n",
    "        p = np.array([np.arange(mt1[j,2],mt1[j,3]+1)], dtype=int)\n",
    "        if(n>m or n==m):\n",
    "            mid = int(np.floor(n/2))\n",
    "            #middle row or column which has highest values\n",
    "            tm = np.array((m), dtype=int)\n",
    "            t = np.zeros((0,m), dtype=int)\n",
    "            t2min = mt1[j,2]\n",
    "            t2max = (n-mid-1)*m-1 + t2min\n",
    "            t1min = t2max + 1\n",
    "            t1max = mid*m-1 + t1min\n",
    "            t1 = np.array([np.arange(t1min,t1max+1)])\n",
    "            t1 = t1.reshape(mid,m)\n",
    "            t1 = t1[::-1]\n",
    "            \n",
    "            t2 = np.array([np.arange(t2min,t2max+1)])\n",
    "            t2 = t2.reshape(n-mid-1,m)\n",
    "            t2 = t2[::-1]\n",
    "            tm = p[0,m*n-m:]\n",
    "\n",
    "            t = np.append(t, t1, axis=0) \n",
    "            t = np.append(t, t2, axis=0)\n",
    "            t = np.insert(t, mid, tm, axis=0)\n",
    "        # m>n\n",
    "        else:\n",
    "            mid = int(np.floor(m/2))\n",
    "            tm = np.array((n), dtype=int)\n",
    "            t = np.zeros((n,0), dtype=int)\n",
    "            t2min = mt1[j,2]\n",
    "            t2max = n*(m-mid-1)-1 + t2min\n",
    "            t1min = t2max + 1\n",
    "            t1max = n*mid-1 + t1min\n",
    "            \n",
    "            t1 = np.array([np.arange(t1min,t1max+1)])\n",
    "            t1 = t1.reshape(n,mid)\n",
    "            t1 = t1[::-1]\n",
    "        \n",
    "            t2 = np.array([np.arange(t2min,t2max+1)])\n",
    "            t2 = t2.reshape(n,m-mid-1)\n",
    "            t2 = t2[::-1]\n",
    "            tm = p[0,m*n-n:]\n",
    "           \n",
    "            t = np.append(t, t1, axis=1)\n",
    "            t = np.append(t, t2, axis=1)\n",
    "            t = np.insert(t, mid, tm, axis=1)\n",
    "        #\n",
    "        t1n = t1.shape[0]\n",
    "        t1m = t1.shape[1]\n",
    "        t2n = t2.shape[0]\n",
    "        t2m = t2.shape[1]        \n",
    "        # shape of t1 and t2 smaller than 3x3, update b with whole t\n",
    "        if((n<= 3 and m<=3) or (m<= 5 and n<=2) or (n<=5 and m<=2)):\n",
    "            # start_end of each element in T\n",
    "            b[mt1[j,4]:mt1[j,4]+n,mt1[j,5]:mt1[j,5]+m] = t\n",
    "        elif((t2n <3 and t2m <3)):\n",
    "            b[mt1[j,4]:mt1[j,4]+n,mt1[j,5]:mt1[j,5]+m] = t \n",
    "        \n",
    "        # add when t2 1 row or 1 column\n",
    "        elif(t2n ==1 or t2m ==1):\n",
    "            if(n>m or n==m):\n",
    "            #if(t2n>t2m):\n",
    "                b[mt1[j,4]+t1n:mt1[j,4]+t1n+2,mt1[j,5]:mt1[j,5]+t2m] = t[n-2:n,:]\n",
    "            else: # m > n\n",
    "                b[mt1[j,4]:mt1[j,4]+n,mt1[j,5]+t1m:mt1[j,5]+m] = t[:,m-2:m]\n",
    "        else:\n",
    "            if(n>m or n==m):\n",
    "                b[mt1[j,4]+mid,mt1[j,5]:mt1[j,5]+m] = t[mid,:]\n",
    "            # m>n\n",
    "            else:\n",
    "                b[mt1[j,4]:mt1[j,4]+n,mt1[j,5]+mid] = t[:,mid]\n",
    "        #add to mt list if size less than or equal 2x3\n",
    "        if((t1n >=2 and t1m >=3) or (t1n>=3 and t1m>=2)):\n",
    "            #[nr1,nc1,min1,max1,sr1,sc1]\n",
    "            min1 = np.min(t1.flatten())\n",
    "            max1 = np.max(t1.flatten())\n",
    "            nr1 = t1n\n",
    "            nc1 = t1m\n",
    "            sr1 = mt1[j,4]\n",
    "            sc1 = mt1[j,5]\n",
    "            mt = np.append(mt, [[nr1,nc1,min1,max1,sr1,sc1]], axis=0)\n",
    "        \n",
    "        if((t2n >=2 and t2m >=3) or (t2n>=3 and t2m>=2)):\n",
    "            min2 = np.min(t2.flatten())\n",
    "            max2 = np.max(t2.flatten())\n",
    "            nr2 = t2n\n",
    "            nc2 = t2m\n",
    "            if(n>m or n==m):\n",
    "                sr2 = mt1[j,4]+t1n+1\n",
    "                sc2 = mt1[j,5] \n",
    "            # m>n\n",
    "            else:\n",
    "                sr2 = mt1[j,4]\n",
    "                sc2 = mt1[j,5]+t1m+1\n",
    "            mt = np.append(mt, [[nr2,nc2,min2,max2,sr2,sc2]], axis=0)\n",
    "        \n",
    "    return b,mt"
   ]
  },
  {
   "cell_type": "code",
   "execution_count": 4,
   "metadata": {
    "collapsed": false
   },
   "outputs": [
    {
     "name": "stdout",
     "output_type": "stream",
     "text": [
      "a matrix\n",
      "[[102081 102082 102083 ..., 102398 102399 102400]\n",
      " [101761 101762 101763 ..., 102078 102079 102080]\n",
      " [101441 101442 101443 ..., 101758 101759 101760]\n",
      " ..., \n",
      " [   641    642    643 ...,    958    959    960]\n",
      " [   321    322    323 ...,    638    639    640]\n",
      " [     1      2      3 ...,    318    319    320]]\n",
      "b\n",
      "[[50567 50568 50569 ..., 93085 93086 93081]\n",
      " [50565 50566 50570 ..., 93083 93087 93080]\n",
      " [50571 50572 50573 ..., 93089 93090 93091]\n",
      " ..., \n",
      " [16601 16602 16608 ..., 51208 51212 51205]\n",
      " [16605 16606 16609 ..., 51214 51215 51216]\n",
      " [16599 16600 16610 ..., 51202 51203 51204]]\n",
      "p\n",
      "[   157    158    159 ..., 101601 101921 102241]\n"
     ]
    }
   ],
   "source": [
    "n = 320\n",
    "b,p = nestdiff(n)"
   ]
  },
  {
   "cell_type": "code",
   "execution_count": 5,
   "metadata": {
    "collapsed": false
   },
   "outputs": [
    {
     "name": "stdout",
     "output_type": "stream",
     "text": [
      "b\n",
      "[[50567 50568 50569 ..., 93085 93086 93081]\n",
      " [50565 50566 50570 ..., 93083 93087 93080]\n",
      " [50571 50572 50573 ..., 93089 93090 93091]\n",
      " ..., \n",
      " [16601 16602 16608 ..., 51208 51212 51205]\n",
      " [16605 16606 16609 ..., 51214 51215 51216]\n",
      " [16599 16600 16610 ..., 51202 51203 51204]]\n",
      "p\n",
      "[   157    158    159 ..., 101601 101921 102241]\n"
     ]
    }
   ],
   "source": [
    "print('b')\n",
    "print(b)\n",
    "print('p')\n",
    "print(p)"
   ]
  },
  {
   "cell_type": "code",
   "execution_count": null,
   "metadata": {
    "collapsed": true
   },
   "outputs": [],
   "source": []
  }
 ],
 "metadata": {
  "kernelspec": {
   "display_name": "Python 3",
   "language": "python",
   "name": "python3"
  },
  "language_info": {
   "codemirror_mode": {
    "name": "ipython",
    "version": 3
   },
   "file_extension": ".py",
   "mimetype": "text/x-python",
   "name": "python",
   "nbconvert_exporter": "python",
   "pygments_lexer": "ipython3",
   "version": "3.4.1"
  }
 },
 "nbformat": 4,
 "nbformat_minor": 0
}
