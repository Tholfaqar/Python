{
 "metadata": {
  "name": "",
  "signature": "sha256:0f6b57cc3aba22dcc2257eab019b44d8fefb84d4400df8770440a733e5a92883"
 },
 "nbformat": 3,
 "nbformat_minor": 0,
 "worksheets": [
  {
   "cells": [
    {
     "cell_type": "markdown",
     "metadata": {},
     "source": [
      "## a."
     ]
    },
    {
     "cell_type": "markdown",
     "metadata": {},
     "source": []
    },
    {
     "cell_type": "markdown",
     "metadata": {},
     "source": []
    },
    {
     "cell_type": "markdown",
     "metadata": {},
     "source": [
      "## b. "
     ]
    },
    {
     "cell_type": "markdown",
     "metadata": {},
     "source": [
      "$ -\\bigtriangledown^2 u-k^2u = 0 $ in $ \\Omega$\n",
      "\n",
      "$ n . \\bigtriangledown u = 0 $ on $\\Gamma_{wall}$\n",
      "\n",
      "$ n . \\bigtriangledown u + iku = 0 $ in $\\Gamma_{out} $\n",
      "\n",
      "$ n . \\bigtriangledown u + iku = 2ik $ in $\\Gamma_{in} $"
     ]
    },
    {
     "cell_type": "markdown",
     "metadata": {},
     "source": [
      "writing in the weak form:\n",
      "\n",
      "$ \\int_{\\Omega} -\\bigtriangledown^2 u-k^2u .d\\Omega + \\int_{\\Gamma_{wall}} n . \\bigtriangledown u .d\\Gamma+ \n",
      "\\int_{\\Gamma_{out}} n . \\bigtriangledown u + iku .d\\Gamma + \\int_{\\Gamma_{in}} n . \\bigtriangledown u + iku - 2ik .d\\Gamma = 0 $"
     ]
    },
    {
     "cell_type": "markdown",
     "metadata": {},
     "source": [
      "multiplying all terms by v function:\n",
      "\n",
      "$ \\int_{\\Omega} -\\bigtriangledown^2 u -k^2u .v.d\\Omega + \\int_{\\Gamma_{wall}} n . \\bigtriangledown u.v .d\\Gamma+ \n",
      "\\int_{\\Gamma_{out}} (n . \\bigtriangledown u + iku) .v.d\\Gamma + \\int_{\\Gamma_{in}} (n . \\bigtriangledown u + iku - 2ik) .v.d\\Gamma = 0 $"
     ]
    },
    {
     "cell_type": "markdown",
     "metadata": {},
     "source": [
      "using integration by parts, divergence theorm:"
     ]
    },
    {
     "cell_type": "markdown",
     "metadata": {},
     "source": [
      "$ \\int -\\bigtriangledown u^2 .v d\\Omega = \\int \\bigtriangledown u. \\bigtriangledown v .d\\Omega $"
     ]
    },
    {
     "cell_type": "markdown",
     "metadata": {},
     "source": [
      "substitute and simplify:"
     ]
    },
    {
     "cell_type": "markdown",
     "metadata": {},
     "source": [
      "$ \\int_{\\Omega} \\bigtriangledown u . \\bigtriangledown v - \\int_{\\partial\\Omega} n . \\bigtriangledown u.v .d\\Omega - k^2\\int_{\\Omega} v.u d\\Omega + \\int_{\\partial\\Omega} v.n . \\bigtriangledown u d\\Omega + \\int_{\\Gamma_{out}} ik.u.v d\\Gamma + \\int_{\\Gamma{in}} (iku - 2ik) .v .d\\Gamma = 0 $"
     ]
    },
    {
     "cell_type": "markdown",
     "metadata": {},
     "source": [
      "$ \\int_{\\Omega} \\bigtriangledown u . \\bigtriangledown v d\\Omega - \\int_{\\Omega} v.k^2. u .d\\Omega + \\int_{\\Gamma_{out}+\\Gamma_{in}} ik.u.v.d\\Gamma - \\int 2ikv d\\Gamma = 0 $ "
     ]
    },
    {
     "cell_type": "markdown",
     "metadata": {},
     "source": [
      "## c."
     ]
    },
    {
     "cell_type": "code",
     "collapsed": false,
     "input": [],
     "language": "python",
     "metadata": {},
     "outputs": []
    }
   ],
   "metadata": {}
  }
 ]
}