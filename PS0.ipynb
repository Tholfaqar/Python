{
 "metadata": {
  "name": "",
  "signature": "sha256:cc6480c81607c7c3fc8a8892591aebaefd5e2b7a5b17c5a18bda75f301356dbb"
 },
 "nbformat": 3,
 "nbformat_minor": 0,
 "worksheets": [
  {
   "cells": [
    {
     "cell_type": "markdown",
     "metadata": {},
     "source": [
      "## Question 0: part 1. \n",
      "\n",
      "Analytical Solution for $y'=ye^t$"
     ]
    },
    {
     "cell_type": "markdown",
     "metadata": {},
     "source": [
      "$\\frac{dy}{dt} = ye^t $ \n",
      "\n",
      "integrating both sides: \n",
      "\n",
      "$ \\int \\frac{dy}{y} = \\int e^t dt $\n",
      "\n",
      "$ln(y) = e^t + c $\n",
      "\n",
      "finding c when $t\\le 0, y(0) =1 $\n",
      "\n",
      "$1 = e^0 + c, \\to c = 0$\n",
      "\n",
      "final solution \n",
      "$\\Longrightarrow  ln(y) = e^t$\n"
     ]
    },
    {
     "cell_type": "markdown",
     "metadata": {},
     "source": [
      "## Question 0: \n",
      "part 2. Numerical Solution for $y'=ye^t$"
     ]
    },
    {
     "cell_type": "code",
     "collapsed": false,
     "input": [
      "%matplotlib inline\n",
      "import numpy as np\n",
      "import matplotlib.pyplot as plt\n",
      "\n",
      "def rhs(t, y):\n",
      "    return np.exp(t) * y\n",
      "\n",
      "h = 0.01\n",
      "T = 2.0\n",
      "\n",
      "nsteps = int(round(T/h))\n",
      "t = np.linspace(0.0, T, nsteps + 1)\n",
      "u = 0 * t\n",
      "u[0] = 1.0\n",
      "for n in range(nsteps):\n",
      "    u[n+1] = u[n] + h * rhs(t[n], u[n])\n",
      "\n",
      "#plt.plot(t, u, linewidth=2)"
     ],
     "language": "python",
     "metadata": {},
     "outputs": [],
     "prompt_number": 10
    },
    {
     "cell_type": "markdown",
     "metadata": {},
     "source": [
      "## Question 1:a \n",
      "\n",
      "plot $y=x^2$ and $y=\u2212x^3+12x+1$ for x\u2208[\u22122,5] in a single figure"
     ]
    },
    {
     "cell_type": "code",
     "collapsed": false,
     "input": [
      "import numpy as np\n",
      "import matplotlib.pyplot as plt\n",
      "x = numpy.linspace(-2,5,100) # 100 linearly spaced numbers\n",
      "\n",
      "y1 = x**2\n",
      "y2 = -x**3 + 12*x + 1    \n",
      "line1, = plt.plot(x,y1, label=\"$y = x^2$\", linestyle ='--', color='g')\n",
      "line2, = plt.plot(x,y2, label=\"$y = -x^3+12x+1$\", linestyle ='-', color ='r')\n",
      "\n",
      "# Create another legend for the second line.\n",
      "plt.legend(handles=[line1,line2], loc=3)\n",
      "\n",
      "plt.show()"
     ],
     "language": "python",
     "metadata": {},
     "outputs": [
      {
       "metadata": {},
       "output_type": "display_data",
       "png": "[encoded data removed]",
       "text": [
        "<matplotlib.figure.Figure at 0x6707a90>"
       ]
      }
     ],
     "prompt_number": 11
    },
    {
     "cell_type": "markdown",
     "metadata": {},
     "source": [
      "## Question 1:b \n",
      "\n",
      "use subplot "
     ]
    },
    {
     "cell_type": "code",
     "collapsed": false,
     "input": [
      "import numpy as np\n",
      "import matplotlib.pyplot as plt\n",
      "plt.figure(1)                # the first figure\n",
      "\n",
      "plt.subplot(211)             # the first subplot in the first figure\n",
      "\n",
      "x = numpy.linspace(-2,5,100) # 100 linearly spaced numbers\n",
      "\n",
      "y1 = x**2\n",
      "y2 = -x**3 + 12*x + 1    \n",
      "line1, = plt.plot(x,y1, label=\"$y = x^2$\", linestyle ='--', color='g')\n",
      "\n",
      "\n",
      "# Create another legend for the second line.\n",
      "plt.legend(handles=[line1], loc=2)\n",
      "\n",
      "plt.subplot(212)             # the second subplot in the first figure\n",
      "line2, = plt.plot(x,y2, label=\"$y = -x^3+12x+1$\", linestyle ='-', color ='r')\n",
      "plt.legend(handles=[line2], loc=3)\n",
      "plt.show()"
     ],
     "language": "python",
     "metadata": {},
     "outputs": [
      {
       "metadata": {},
       "output_type": "display_data",
       "png": "[encoded data removed]",
       "text": [
        "<matplotlib.figure.Figure at 0x6c6c320>"
       ]
      }
     ],
     "prompt_number": 12
    },
    {
     "cell_type": "markdown",
     "metadata": {},
     "source": [
      "## Question 2: a - matricies "
     ]
    },
    {
     "cell_type": "code",
     "collapsed": false,
     "input": [
      "import numpy as np\n",
      "A = np.array(((1,1,2),(-1,0,7),(0,3,-2)))\n",
      "B = np.array(((1),(1),(3)))\n",
      "C = np.array(((1,0),(2,8),(3,0)))\n",
      "\n",
      "print('A=','\\n')\n",
      "print('\\n'.join([''.join(['{:5}'.format(item) for item in row]) \n",
      "      for row in A]))\n",
      "print('shape of A = ',A.shape)\n",
      "print('B=','\\n')\n",
      "print ('\\n'.join(map(str, B)),'\\n')\n",
      "print('shape of B = ',B.shape)\n",
      "print('C=','\\n')\n",
      "print('\\n'.join([''.join(['{:5}'.format(item) for item in row]) \n",
      "      for row in C]))\n",
      "print('shape of C = ',C.shape)"
     ],
     "language": "python",
     "metadata": {},
     "outputs": [
      {
       "output_type": "stream",
       "stream": "stdout",
       "text": [
        "A= \n",
        "\n",
        "    1    1    2\n",
        "   -1    0    7\n",
        "    0    3   -2\n",
        "shape of A =  (3, 3)\n",
        "B= \n",
        "\n",
        "1\n",
        "1\n",
        "3 \n",
        "\n",
        "shape of B =  (3,)\n",
        "C= \n",
        "\n",
        "    1    0\n",
        "    2    8\n",
        "    3    0\n",
        "shape of C =  (3, 2)\n"
       ]
      }
     ],
     "prompt_number": 13
    },
    {
     "cell_type": "markdown",
     "metadata": {},
     "source": [
      "## Question 2: b\n",
      "$ P_1 = A*B $"
     ]
    },
    {
     "cell_type": "code",
     "collapsed": false,
     "input": [
      "import numpy as np\n",
      "A = np.array(((1,1,2),(-1,0,7),(0,3,-2)))\n",
      "B = np.array(((1),(1),(3)))\n",
      "C = np.array(((1,0),(2,8),(3,0)))\n",
      "P1 = A.dot(B)\n",
      "\n",
      "print('shape of P1 = ',P1.shape)"
     ],
     "language": "python",
     "metadata": {},
     "outputs": [
      {
       "output_type": "stream",
       "stream": "stdout",
       "text": [
        "shape of P1 =  (3,)\n"
       ]
      }
     ],
     "prompt_number": 14
    },
    {
     "cell_type": "markdown",
     "metadata": {},
     "source": [
      "## Question 2:c \n",
      "$ P_2 = A^T * C $"
     ]
    },
    {
     "cell_type": "code",
     "collapsed": false,
     "input": [
      "import numpy\n",
      "A = np.array(((1,1,2),(-1,0,7),(0,3,-2)))\n",
      "B = np.array(((1),(1),(3)))\n",
      "C = np.array(((1,0),(2,8),(3,0)))\n",
      "P1 = A*B\n",
      "AT = A.transpose()\n",
      "P2 = AT.dot(C)\n",
      "\n",
      "print('P2=','\\n')\n",
      "print('\\n'.join([''.join(['{:5}'.format(item) for item in row]) \n",
      "      for row in P2]))\n",
      "\n"
     ],
     "language": "python",
     "metadata": {},
     "outputs": [
      {
       "output_type": "stream",
       "stream": "stdout",
       "text": [
        "P2= \n",
        "\n",
        "   -1   -8\n",
        "   10    0\n",
        "   10   56\n"
       ]
      }
     ],
     "prompt_number": 15
    },
    {
     "cell_type": "markdown",
     "metadata": {},
     "source": [
      "## Question 3: \n",
      "find $A_{200}$\n",
      "if \n",
      "$2A_{n+3}\u2212A_{n+2}\u22122A_{n+1}+A_n = 0$"
     ]
    },
    {
     "cell_type": "code",
     "collapsed": false,
     "input": [
      "import numpy\n",
      "\n",
      "# A0=6,A1=2,A2=3\n",
      "An0 = 6.0\n",
      "An1 = 2.0\n",
      "An2 = 3.0\n",
      "An3 = 0.0\n",
      "\n",
      "#An3(new) = (2*An1+ An2 - An0)/2\n",
      "#An2(new) = (2*An3) - An2 + An0\n",
      "#An1(new) = ((2*An3) - An2 +An0)/2\n",
      "#An0(new) = -1*((2*An3) - (2*An1 + An2))\n",
      "for num in range(1,198):  #to iterate between 10 to 20\n",
      "   An3 = (2*An1 + An2 - An0)/2\n",
      "    #update values for each An\n",
      "   An2 = (2*An3) - An2 + An0  \n",
      "   An1 = ((2*An3) - An2 +An0)/2\n",
      "   An0 = -1*((2*An3) - (2*An1 + An2))\n",
      "print ('A200 = ',An3)"
     ],
     "language": "python",
     "metadata": {},
     "outputs": [
      {
       "output_type": "stream",
       "stream": "stdout",
       "text": [
        "A200 =  0.5\n"
       ]
      }
     ],
     "prompt_number": 16
    }
   ],
   "metadata": {}
  }
 ]
}