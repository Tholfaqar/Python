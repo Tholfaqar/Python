{
 "metadata": {
  "name": "",
  "signature": "sha256:1141a4ce5bba0c6cb894a4fb8643937af61176d1d7e6f0d9951be0e299c1148c"
 },
 "nbformat": 3,
 "nbformat_minor": 0,
 "worksheets": [
  {
   "cells": [
    {
     "cell_type": "markdown",
     "metadata": {},
     "source": [
      "utility functions"
     ]
    },
    {
     "cell_type": "code",
     "collapsed": false,
     "input": [
      "%matplotlib inline\n",
      "import numpy as np\n",
      "import scipy.sparse as sps\n",
      "from scipy.spatial import Delaunay\n",
      "import matplotlib.pyplot as plt\n",
      "import matplotlib.tri as tri \n",
      "\n",
      "def all_edges(t,p):\n",
      "    # Find all unique edges in the triangulation t (ne-by-2 array)\n",
      "    # Second output is indices to the boundary edges.\n",
      "    edges = np.vstack((t[:,[0,1]], t[:,[1,2]], t[:,[2,0]]))\n",
      "    key = edges.min(axis=1) + edges.max(axis=1) * p.shape[0]\n",
      "    _, ix, counts = np.unique(key, return_index=True, return_counts=True)\n",
      "    return edges[ix, :], np.where(counts == 1)\n",
      "\n",
      "def boundary_nodes(t,p):\n",
      "    # Find all boundary nodes in the triangulation t\n",
      "    edges, boundary_indices = all_edges(t,p)\n",
      "    return np.unique(edges[boundary_indices, :].flatten())\n",
      "\n",
      "def tplot(p, t, u=None):\n",
      "    # Plot triangular mesh p, t, or contour plot if solution u is provided\n",
      "    plt.clf()\n",
      "    plt.axis('equal')\n",
      "    if u is None:\n",
      "        plt.tripcolor(p[:,0], p[:,1], t, 0*t[:,0], cmap='Set3',edgecolors='k', linewidth=1)\n",
      "    else:\n",
      "        plt.tricontourf(p[:,0], p[:,1], t, u, 20)\n",
      "    plt.draw()\n",
      "\n",
      "def unique_rows(A, return_index=False, return_inverse=False):\n",
      "    \"\"\"\n",
      "    Similar to MATLAB's unique(A, 'rows'), this returns B, I, J\n",
      "    where B is the unique rows of A and I and J satisfy\n",
      "    A = B[J,:] and B = A[I,:]\n",
      "    Returns I if return_index is True\n",
      "    Returns J if return_inverse is True\n",
      "    \"\"\"\n",
      "    A = np.require(A, requirements='C')\n",
      "    assert A.ndim == 2, \"array must be 2-dim'l\"\n",
      "\n",
      "    orig_dtype = A.dtype\n",
      "    ncolumns = A.shape[1]\n",
      "    dtype = np.dtype((np.character, orig_dtype.itemsize*ncolumns))\n",
      "    B, I, J = np.unique(A.view(dtype),\n",
      "                        return_index=True,\n",
      "                        return_inverse=True)\n",
      "\n",
      "    B = B.view(orig_dtype).reshape((-1, ncolumns), order='C')\n",
      "\n",
      "    # There must be a better way to do this:\n",
      "    if (return_index):\n",
      "        if (return_inverse):\n",
      "            return B, I, J\n",
      "        else:\n",
      "            return B, I\n",
      "    else:\n",
      "        if (return_inverse):\n",
      "            return B, J\n",
      "        else:\n",
      "            return B"
     ],
     "language": "python",
     "metadata": {},
     "outputs": [],
     "prompt_number": 396
    },
    {
     "cell_type": "markdown",
     "metadata": {},
     "source": [
      "find triangle's centroid tcenter [Ux,Uy]"
     ]
    },
    {
     "cell_type": "code",
     "collapsed": false,
     "input": [
      "def trcent (point,tr):\n",
      "    pt1 = [(point[tr[0],0]), (point[tr[0],1])]\n",
      "    pt2 = [(point[tr[1],0]), (point[tr[1],1])]\n",
      "    pt3 = [(point[tr[2],0]), (point[tr[2],1])]        \n",
      "    tcenter = [((pt1[0] + pt2[0] + pt3[0])/3), ((pt1[1]+pt2[1]+pt3[1])/3)]\n",
      "    return tcenter"
     ],
     "language": "python",
     "metadata": {},
     "outputs": [],
     "prompt_number": 397
    },
    {
     "cell_type": "markdown",
     "metadata": {},
     "source": [
      "check if triangles in connection table are inside polygon, eliminate if outside."
     ]
    },
    {
     "cell_type": "code",
     "collapsed": false,
     "input": [
      "from matplotlib.path import Path\n",
      "import numpy as np\n",
      "\n",
      "def inboundary(pv,point,DT):\n",
      "    conn = np.zeros((1,3)).astype(int)\n",
      "    path = Path(pv)\n",
      "    \n",
      "    for i in range (0, len(DT)):\n",
      "        # take triangles from connection table, call them t\n",
      "        tr = [(DT[i,0]), (DT[i,1]), (DT[i,2])]\n",
      "        \n",
      "        tcenter = trcent(point,tr)\n",
      "        \n",
      "        IN = path.contains_point(tcenter)\n",
      "        \n",
      "        if(IN == 1):\n",
      "            conn = np.append(conn, [tr], axis=0)\n",
      "    conn = np.delete(conn, (0), axis=0)   \n",
      "    return conn"
     ],
     "language": "python",
     "metadata": {},
     "outputs": [],
     "prompt_number": 398
    },
    {
     "cell_type": "markdown",
     "metadata": {},
     "source": [
      "find maximum area in all triangles in connection table, find the index of max area triangle"
     ]
    },
    {
     "cell_type": "code",
     "collapsed": false,
     "input": [
      "def area_max(point,DT):\n",
      "    ar = [0]\n",
      "    armax = 0.0\n",
      "    for i in range (0, len(DT)):\n",
      "        tr = [(DT[i,0]), (DT[i,1]), (DT[i,2])]\n",
      "                \n",
      "        pt1 = [(point[tr[0],0]), (point[tr[0],1])]\n",
      "        pt2 = [(point[tr[1],0]), (point[tr[1],1])]\n",
      "        pt3 = [(point[tr[2],0]), (point[tr[2],1])]\n",
      "        \n",
      "        ar.append(abs(((pt1[0]*(pt2[1]-pt3[1]))+(pt2[0]*(pt3[1]-pt1[1]))+(pt3[0]*(pt1[1]-pt2[1])))/2))\n",
      "    ar = np.delete(ar, (0), axis=0)\n",
      "    for i in range (0, len(ar)):\n",
      "        if (armax < ar[i]):\n",
      "            armax = ar[i]\n",
      "            indx = i\n",
      "    \n",
      "    return armax,indx"
     ],
     "language": "python",
     "metadata": {},
     "outputs": [],
     "prompt_number": 399
    },
    {
     "cell_type": "markdown",
     "metadata": {},
     "source": [
      "find circumcenter c [Ux,Uy] of any trinagle with verticies pt1[Ux,Uy], pt2[Ux,Uy], pt3[Ux,Uy]"
     ]
    },
    {
     "cell_type": "code",
     "collapsed": false,
     "input": [
      "def circumfind(pt1,pt2,pt3):\n",
      "    \n",
      "    D = 2*(pt1[0]*(pt2[1]-pt3[1])+pt2[0]*(pt3[1]-pt1[1])+pt3[0]*(pt1[1]-pt2[1]))\n",
      "    Ux = ((pt1[0]**2+pt1[1]**2)*(pt2[1]-pt3[1])+(pt2[0]**2+pt2[1]**2)*(pt3[1]-pt1[1])+(pt3[0]**2+pt3[1]**2)*(pt1[1]-pt2[1]))/D\n",
      "    Uy = ((pt1[0]**2+pt1[1]**2)*(pt3[0]-pt2[0])+(pt2[0]**2+pt2[1]**2)*(pt1[0]-pt3[0])+(pt3[0]**2+pt3[1]**2)*(pt2[0]-pt1[0]))/D\n",
      "    c = [(Ux),(Uy)]\n",
      "    \n",
      "    return c"
     ],
     "language": "python",
     "metadata": {},
     "outputs": [],
     "prompt_number": 400
    },
    {
     "cell_type": "markdown",
     "metadata": {},
     "source": [
      "find mid points mid1[Ux,Uy], mid2[Ux,Uy], mid3[Ux,Uy] of each side in a trinagle of verticies pt1[Ux,Uy], pt2[Ux,Uy], pt3[Ux,Uy]"
     ]
    },
    {
     "cell_type": "code",
     "collapsed": false,
     "input": [
      "def midfind(pt1,pt2,pt3):\n",
      "    \n",
      "    mid1 = [(pt1[0] + pt2[0])/2, (pt1[1]+pt2[1])/2]\n",
      "    mid2 = [(pt2[0] + pt3[0])/2, (pt2[1]+pt3[1])/2]\n",
      "    mid3 = [(pt3[0] + pt1[0])/2, (pt3[1]+pt1[1])/2]\n",
      "    return mid1,mid2,mid3"
     ],
     "language": "python",
     "metadata": {},
     "outputs": [],
     "prompt_number": 401
    },
    {
     "cell_type": "markdown",
     "metadata": {},
     "source": [
      "meshing of whole domain. first find circumcenter of largest triangle and add it to list of points. then triangulate and eliminate triangles outside boundaries"
     ]
    },
    {
     "cell_type": "code",
     "collapsed": false,
     "input": [
      "def mesh_it(armax,hmax,p,t,pv):\n",
      "    while (armax > (hmax**2/2)):\n",
      "        \n",
      "        armax,indx = area_max(p,t)\n",
      "        tr = [(t[indx,0]), (t[indx,1]), (t[indx,2])]\n",
      "        \n",
      "        #finding triangle verticies\n",
      "        pt1 = [(p[tr[0],0]), (p[tr[0],1])]\n",
      "        pt2 = [(p[tr[1],0]), (p[tr[1],1])]\n",
      "        pt3 = [(p[tr[2],0]), (p[tr[2],1])]\n",
      "        #finding triangle circumcenter\n",
      "        circumcenter = circumfind(pt1,pt2,pt3)\n",
      "        # add circumcenter to list of points\n",
      "        p = np.append(p, [circumcenter], axis=0)\n",
      "        #unique it\n",
      "        p = unique_rows(p)\n",
      "        #triangulate again after adding the circumcenter of largest triangle        \n",
      "        t = tri.Triangulation(p[:,0], p[:,1]).triangles\n",
      "        t = inboundary(pv,p,t)\n",
      "        t = unique_rows(t)\n",
      "    return p,t"
     ],
     "language": "python",
     "metadata": {},
     "outputs": [],
     "prompt_number": 402
    },
    {
     "cell_type": "markdown",
     "metadata": {},
     "source": [
      "refine the mesh. finds the mid points of all triangles, add it to list of points, triangulate and remove outside triangles"
     ]
    },
    {
     "cell_type": "code",
     "collapsed": false,
     "input": [
      "def refine_it(p,t,pv):\n",
      "    \n",
      "    # creating nodes on boundaries\n",
      "    for i in range(0, len(t)):\n",
      "        tr = [(t[i,0]), (t[i,1]), (t[i,2])]\n",
      "        #finding triangle verticies\n",
      "        pt1 = [(p[tr[0],0]), (p[tr[0],1])]\n",
      "        pt2 = [(p[tr[1],0]), (p[tr[1],1])]\n",
      "        pt3 = [(p[tr[2],0]), (p[tr[2],1])]\n",
      "        #find mid points\n",
      "        mid1,mid2,mid3 = midfind(pt1,pt2,pt3)\n",
      "           \n",
      "        # p is the new points table\n",
      "        p = np.append(p, [mid1], axis=0)\n",
      "        p = np.append(p, [mid2], axis=0)\n",
      "        p = np.append(p, [mid3], axis=0)\n",
      "    # removing doublicate points\n",
      "    p = unique_rows(p)\n",
      "    #triangulate p to create connection table t\n",
      "    t = tri.Triangulation(p[:,0], p[:,1]).triangles\n",
      "    # finding if triangles inside boundary\n",
      "    t = inboundary(pv,p,t)\n",
      "    t = unique_rows(t)\n",
      "    return p,t"
     ],
     "language": "python",
     "metadata": {},
     "outputs": [],
     "prompt_number": 403
    },
    {
     "cell_type": "code",
     "collapsed": false,
     "input": [
      "def pmesh(pv,hmax,nref):\n",
      "    \n",
      "    x = [0]\n",
      "    y = [0]\n",
      "    #circlist = [0]\n",
      "    # creating nodes on boundaries\n",
      "    for i in range(0, (len(pv)-1)):\n",
      "        \n",
      "        x1 = pv[i,0]\n",
      "        y1 = pv[i,1]\n",
      "        x2 = pv[i+1,0]\n",
      "        y2 = pv[i+1,1]\n",
      "        l = np.sqrt((x2-x1)**2 + (y2-y1)**2)\n",
      "        m = np.ceil(l/hmax)\n",
      "        x0 = np.linspace(x1,x2,m+1)\n",
      "        y0 = np.linspace(y1,y2,m+1)\n",
      "        x0 = np.delete(x0, (-1), axis=0) \n",
      "        y0 = np.delete(y0, (-1), axis=0)\n",
      "        x.extend(x0)\n",
      "        y.extend(y0)\n",
      "    point = np.vstack([x,y])\n",
      "    # p is the new points table [x,y] coordinates\n",
      "    p = point.T\n",
      "    # removing doublicate points\n",
      "    p = unique_rows(p)\n",
      "    #triangulate p to create connection table t\n",
      "    t = tri.Triangulation(p[:,0], p[:,1]).triangles\n",
      "    # finding if triangles inside boundary\n",
      "    t = inboundary(pv,p,t)\n",
      "    t = unique_rows(t)\n",
      "    # finding area of all triangles and maximum + index relating to maximum\n",
      "    armax,indx = area_max(p,t)\n",
      "    # meshing the domain\n",
      "    p,t = mesh_it(armax,hmax,p,t,pv)\n",
      "    \n",
      "    #refining the domain if href >= 1\n",
      "    if (nref >= 1):\n",
      "        for i in range (0, nref):\n",
      "            p,t = refine_it(p,t,pv)\n",
      "            armax,indx = area_max(p,t)\n",
      "            p,t = mesh_it(armax,hmax,p,t,pv)\n",
      "    e = boundary_nodes(t,p)\n",
      "    \n",
      "    return p,t,e"
     ],
     "language": "python",
     "metadata": {},
     "outputs": [],
     "prompt_number": 404
    },
    {
     "cell_type": "code",
     "collapsed": false,
     "input": [],
     "language": "python",
     "metadata": {},
     "outputs": [],
     "prompt_number": 404
    },
    {
     "cell_type": "code",
     "collapsed": false,
     "input": [
      "import numpy as np\n",
      "import scipy.sparse as sps\n",
      "from scipy.sparse.linalg import spsolve\n",
      "\n",
      "def fempoi(p, t, e):\n",
      "    # Assemble A and b\n",
      "    N = p.shape[0]\n",
      "    A = sps.lil_matrix((N, N))\n",
      "    b = np.zeros((N))\n",
      "    for el in t:\n",
      "        Q = np.hstack((np.ones((3,1)), p[el,:]))\n",
      "        Area = abs(np.linalg.det(Q)) / 2.0\n",
      "        c = np.linalg.inv(Q)\n",
      "        \n",
      "        Ah = Area * (np.outer(c[1,:], c[1,:]) + np.outer(c[2,:], c[2,:]))\n",
      "        bh = Area / 3\n",
      "\n",
      "        A[np.ix_(el,el)] += Ah\n",
      "        b[el] += bh\n",
      "\n",
      "    # Implement Dirichlet boundary conditions\n",
      "    A[e,:] = 0.0\n",
      "    A[:,e] = 0.0\n",
      "    b[e] = 0.0\n",
      "    A[e, e] = 1.0\n",
      "        \n",
      "    # Solve\n",
      "    u = spsolve(A.tocsc(), b)\n",
      "\n",
      "    return u, A, b"
     ],
     "language": "python",
     "metadata": {},
     "outputs": [],
     "prompt_number": 405
    },
    {
     "cell_type": "markdown",
     "metadata": {},
     "source": [
      "## a."
     ]
    },
    {
     "cell_type": "code",
     "collapsed": false,
     "input": [
      "hmax = 0.2\n",
      "#N = 100  #number of steps\n",
      "m = 214\n",
      "nref = 0\n",
      "wn = 6 # wave number\n",
      "pv = np.array([[0.0,0.0],[5.0,0.0],[5.0,1.0],[0.0,1.0],[0.0,0.0]])\n",
      "p,t,e = pmesh(pv,hmax,nref)\n",
      "u,_,_  = fempoi(p, t, e)\n",
      "x = np.linspace(0.0,5.0,len(u))\n",
      "uex = np.exp(1j*x*wn)\n",
      "#print(len(u))\n",
      "tplot(p,t, u=None)\n",
      "plt.plot(p[e,0], p[e, 1], 'ro')\n",
      "\n",
      "plt.plot(x,uex)\n",
      "plt.plot(x,u)\n"
     ],
     "language": "python",
     "metadata": {},
     "outputs": [
      {
       "metadata": {},
       "output_type": "pyout",
       "prompt_number": 406,
       "text": [
        "[<matplotlib.lines.Line2D at 0xa15add8>]"
       ]
      },
      {
       "metadata": {},
       "output_type": "display_data",
       "png": "[encoded data removed]",
       "text": [
        "<matplotlib.figure.Figure at 0xa11e978>"
       ]
      }
     ],
     "prompt_number": 406
    },
    {
     "cell_type": "code",
     "collapsed": false,
     "input": [],
     "language": "python",
     "metadata": {},
     "outputs": [],
     "prompt_number": 406
    },
    {
     "cell_type": "code",
     "collapsed": false,
     "input": [],
     "language": "python",
     "metadata": {},
     "outputs": [],
     "prompt_number": 406
    },
    {
     "cell_type": "code",
     "collapsed": false,
     "input": [
      "pv = np.array([[0.0,0.0],[0.0,1.0],[1.9,1.0],[1.9,0.2],[2.1,0.2],[2.1,1],[2.9,1.0],[2.9,0.2],[3.1,0.2],[3.1,1.0],[5,1],[5.0,0.0],[0.0,0.0]])\n",
      "hmax = 0.2\n",
      "nref = 0\n",
      "\n",
      "p,t,e = pmesh(pv,hmax,nref)\n",
      "tplot(p,t, u=None)\n",
      "plt.plot(p[e,0], p[e, 1], 'ro')\n",
      "u,_,_  = fempoi(p, t, e)\n",
      "tplot(p, t, u)"
     ],
     "language": "python",
     "metadata": {},
     "outputs": [
      {
       "metadata": {},
       "output_type": "display_data",
       "png": "[encoded data removed]",
       "text": [
        "<matplotlib.figure.Figure at 0x9fd0b70>"
       ]
      }
     ],
     "prompt_number": 407
    },
    {
     "cell_type": "code",
     "collapsed": false,
     "input": [],
     "language": "python",
     "metadata": {},
     "outputs": [],
     "prompt_number": 407
    }
   ],
   "metadata": {}
  }
 ]
}