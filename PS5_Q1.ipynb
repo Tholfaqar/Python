{
 "cells": [
  {
   "cell_type": "markdown",
   "metadata": {},
   "source": [
    "## a."
   ]
  },
  {
   "cell_type": "markdown",
   "metadata": {},
   "source": [
    "writing in the weak form:\n",
    "\n",
    "$ \\int_{\\Omega} -\\bigtriangledown^2 u-k^2u .d\\Omega + \\int_{\\Gamma_{wall}} n . \\bigtriangledown u .d\\Gamma+ \n",
    "\\int_{\\Gamma_{out}} n . \\bigtriangledown u + iku .d\\Gamma + \\int_{\\Gamma_{in}} n . \\bigtriangledown u + iku - 2ik .d\\Gamma = 0 $"
   ]
  },
  {
   "cell_type": "markdown",
   "metadata": {},
   "source": [
    "multiplying all terms by weight function v to get Galerkin form:\n",
    "\n",
    "$ \\int_{\\Omega} -\\bigtriangledown^2 u_h.v  -k^2u .v.d\\Omega + \\int_{\\Gamma_{wall}} n . \\bigtriangledown u_h.v .d\\Gamma +  \n",
    "\\int_{\\Gamma_{out}} (n . \\bigtriangledown u_h + iku) .v.d\\Gamma + \\int_{\\Gamma_{in}} (n . \\bigtriangledown u_h + iku - 2ik) .v.d\\Gamma = 0 $"
   ]
  },
  {
   "cell_type": "markdown",
   "metadata": {},
   "source": [
    "simplifying:\n",
    "\n",
    "$ \\int_{\\Omega} \\bigtriangledown u_h . \\bigtriangledown v. d\\Omega = \\int_{\\Omega} k^2u_h .v.d\\Omega - \\int_{\\Gamma_{wall}} n . \\bigtriangledown u_h.v .d\\Gamma - \\int_{\\Gamma_{out}} (n . \\bigtriangledown u_h + iku) .v.d\\Gamma - \\int_{\\Gamma_{in}} (n . \\bigtriangledown u_h + iku - 2ik) .v.d\\Gamma $"
   ]
  },
  {
   "cell_type": "markdown",
   "metadata": {},
   "source": [
    "## b. "
   ]
  },
  {
   "cell_type": "markdown",
   "metadata": {},
   "source": [
    "$ -\\bigtriangledown^2 u-k^2u = 0 $ in $ \\Omega$\n",
    "\n",
    "$ n . \\bigtriangledown u = 0 $ on $\\Gamma_{wall}$\n",
    "\n",
    "$ n . \\bigtriangledown u + iku = 0 $ in $\\Gamma_{out} $\n",
    "\n",
    "$ n . \\bigtriangledown u + iku = 2ik $ in $\\Gamma_{in} $"
   ]
  },
  {
   "cell_type": "markdown",
   "metadata": {},
   "source": [
    "from part a, Galerkin form:\n",
    "\n",
    "$ \\int_{\\Omega} \\bigtriangledown u . \\bigtriangledown v. d\\Omega = \\int_{\\Omega} k^2u .v.d\\Omega - \\int_{\\Gamma_{wall}} n . \\bigtriangledown u.v .d\\Gamma - \\int_{\\Gamma_{out}} (n . \\bigtriangledown u + iku) .v.d\\Gamma - \\int_{\\Gamma_{in}} (n . \\bigtriangledown u + iku - 2ik) .v.d\\Gamma $\n",
    "\n",
    "Expanding basis function $u_h$:\n",
    "\n",
    "applying B.C's:\n",
    "\n",
    "$\\int_{\\Gamma_{wall}} n . \\bigtriangledown u.v .d\\Gamma = 0$\n",
    "\n",
    "$ \\int_{\\Omega} (\\sum^n_{j=1} u_{h,j} \\phi_j') . \\phi_i' . d\\Omega = k^2 \\int_{\\Omega} (\\sum^n_{j=1} u_{h,j} \\phi_j) .\\phi_i.d\\Omega - ik \\int_{\\Gamma_{out}} (\\sum^n_{j=1} u_{h,j} \\phi_j) .\\phi_i .d\\Gamma - ik [\\int_{\\Gamma_{in}} (\\sum^n_{j=1} u_{h,j} \\phi_j).\\phi_i +2 \\phi_i ] .d\\Gamma $\n"
   ]
  },
  {
   "cell_type": "markdown",
   "metadata": {},
   "source": [
    "moving summation to outside the integrals yields: \n",
    "\n",
    "$ \\sum^n_{j=1} \\int_{\\Omega} (u_{h,j} \\phi_j') . \\phi_i' . d\\Omega = k^2 \\sum^n_{j=1} \\int_{\\Omega} (u_{h,j} \\phi_j) .\\phi_i.d\\Omega - ik \\sum^n_{j=1} \\int_{\\Gamma_{out}} (u_{h,j} \\phi_j) .\\phi_i .d\\Gamma - ik \\sum^n_{j=1} [\\int_{\\Gamma_{in}} (u_{h,j} \\phi_j).\\phi_i+2 \\phi_i ] .d\\Gamma $"
   ]
  },
  {
   "cell_type": "markdown",
   "metadata": {},
   "source": [
    "since $u_h$ is a constant, we can move outside the integral:\n",
    "\n",
    "$ \\sum^n_{j=1} u_{h,j} \\int_{\\Omega} (\\phi_j') . \\phi_i' . d\\Omega = k^2 \\sum^n_{j=1} u_{h,j} \\int_{\\Omega} ( \\phi_j) .\\phi_i.d\\Omega - ik \\sum^n_{j=1} u_{h,j}\\int_{\\Gamma_{out}} (\\phi_j) .\\phi_i .d\\Gamma - ik \\sum^n_{j=1} u_{h,j}[\\int_{\\Gamma_{in}} (\\phi_j).\\phi_i +2 \\phi_i ] .d\\Gamma $.....(1)\n",
    "\n",
    "simplifying:\n",
    "\n",
    "$ \\sum^n_{j=1} u_{h,j} \\int_{\\Omega} (\\phi_j') . \\phi_i' . d\\Omega = k^2 \\sum^n_{j=1} u_{h,j} \\int_{\\Omega} ( \\phi_j) .\\phi_i.d\\Omega - ik [ \\sum^n_{j=1} u_{h,j}\\int_{\\Gamma_{out}} (\\phi_j) .\\phi_i .d\\Gamma + \\sum^n_{j=1} u_{h,j}(\\int_{\\Gamma_{in}} (\\phi_j).\\phi_i) - 2 \\phi_i .d\\Gamma ] $.....(1a)\n",
    "\n",
    "moving LHS to RHS (moving all terms multiplied by $u_{h,j}$ to RHS):\n",
    "\n",
    "$ \\sum^n_{j=1} u_{h,j} \\int_{\\Omega} (\\phi_j') . \\phi_i' . d\\Omega - k^2 \\sum^n_{j=1} u_{h,j} \\int_{\\Omega} ( \\phi_j) .\\phi_i.d\\Omega + ik [ \\sum^n_{j=1} u_{h,j}\\int_{\\Gamma_{out}} (\\phi_j) .\\phi_i .d\\Gamma + \\sum^n_{j=1} u_{h,j}(\\int_{\\Gamma_{in}} (\\phi_j).\\phi_i) .d\\Gamma] = 2ik .\\phi_i $.....(1b)"
   ]
  },
  {
   "cell_type": "markdown",
   "metadata": {},
   "source": [
    "let: \n",
    "\n",
    "$\\int_{\\Omega} (\\phi_j') . \\phi_i' . d\\Omega = K_{ij}$ ...(2)\n",
    "\n",
    "$\\int_{\\Omega} ( \\phi_j) .\\phi_i.d\\Omega = M_{ij}$ ...(3)\n",
    "\n",
    "$\\int_{\\Gamma_{out}} (\\phi_i) .\\phi_j .d\\Gamma = B_{out,ij}$ ...(4)\n",
    "\n",
    "$\\int_{\\Gamma_{in}}  (\\phi_i) .\\phi_j .d\\Gamma = B_{in,ij}$ ...(5)\n",
    "\n",
    "$\\int_{\\Gamma_{in}} \\phi_i = b_{in,i}$ ...(6)\n"
   ]
  },
  {
   "cell_type": "markdown",
   "metadata": {},
   "source": [
    "substituting in 2,3,4,5,6 in (1b) yields:\n",
    "\n",
    "$ \\sum^n_{j=1} u_{h,j} (K_{ij}-k^2 M_{ij}+ik(B_{out,ij}+B_{in,ij})) = 2ik .b_{in,i}$"
   ]
  },
  {
   "cell_type": "markdown",
   "metadata": {},
   "source": [
    "## c."
   ]
  },
  {
   "cell_type": "markdown",
   "metadata": {},
   "source": [
    "$ H(u) = \\int_{\\Gamma_{out}} |u|^2 dS $ \n",
    "\n",
    "since u is a complex, from complex conjugate properties:\n",
    "\n",
    "$ |u|^2 = u.u^* $ where $u^*$ is complex conjugate of u\n",
    "\n",
    "using basis function and weight functions:\n",
    "\n",
    "$H(u)= \\sum^n_{j=1} \\sum^n_{i=1} \\int_{\\Gamma_{out}} (u_{h,j}.\\phi_j).(u_{h,i}.\\phi_i)^*$ dS...(1)"
   ]
  },
  {
   "cell_type": "markdown",
   "metadata": {},
   "source": [
    "from complex conjugate properties:\n",
    "\n",
    "$(u_{h}.\\phi)^* = u_{h}^* .\\phi^*$\n",
    "\n",
    "substituting in ...(1):\n",
    "\n",
    "$H(u)= \\sum^n_{j=1} \\sum^n_{i=1} \\int_{\\Gamma_{out}} u_{h,j}.\\phi_j .u_{h,i}^* .\\phi_i^* $\n"
   ]
  },
  {
   "cell_type": "markdown",
   "metadata": {},
   "source": [
    "since $\\phi$ is a real number, then $\\phi^* = \\phi$\n",
    "\n",
    "$H(u)= \\sum^n_{j=1} \\sum^n_{i=1} \\int_{\\Gamma_{out}} u_{h,j}.\\phi_j .u_{h,i}^* .\\phi_i dS$\n",
    "\n",
    "rearranging terms and moving $u_{h}$ outside integral:\n",
    "\n",
    "$H(u)= \\sum^n_{j=1} \\sum^n_{i=1} u_{h,j}.u_{h,i}^* \\int_{\\Gamma_{out}} \\phi_j .\\phi_i dS$\n",
    "\n",
    "$B_{out,ij} = \\int_{\\Gamma_{out}} \\phi_j .\\phi_i dS$\n",
    "\n",
    "Hence: \n",
    "\n",
    "$H(u) = u^*.B_{out}.u$ ...(2)\n",
    "\n",
    "from matrix multiplication properties and since $B_{out}$ is a (i,j) matrix. In order to multiply the terms $u^*.B_{out}.u$, $u^*$ have to be a 1 row matrix. i.e. $u^* = {(u^*)}^T$\n",
    "\n",
    "since ${(u^*)}^T = u^H$ then ...(2) become:\n",
    "\n",
    "$H(u) = u^H.B_{out}.u$"
   ]
  }
 ],
 "metadata": {
  "kernelspec": {
   "display_name": "Python 3",
   "language": "python",
   "name": "python3"
  },
  "language_info": {
   "codemirror_mode": {
    "name": "ipython",
    "version": 3
   },
   "file_extension": ".py",
   "mimetype": "text/x-python",
   "name": "python",
   "nbconvert_exporter": "python",
   "pygments_lexer": "ipython3",
   "version": "3.4.1"
  }
 },
 "nbformat": 4,
 "nbformat_minor": 0
}
