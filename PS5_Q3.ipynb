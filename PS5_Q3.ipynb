{
 "cells": [
  {
   "cell_type": "markdown",
   "metadata": {},
   "source": [
    "utility functions"
   ]
  },
  {
   "cell_type": "code",
   "execution_count": 1,
   "metadata": {
    "collapsed": false
   },
   "outputs": [],
   "source": [
    "%matplotlib inline\n",
    "import numpy as np\n",
    "import scipy.sparse as sps\n",
    "from scipy.spatial import Delaunay\n",
    "import matplotlib.pyplot as plt\n",
    "import matplotlib.tri as tri \n",
    "from scipy.sparse.linalg import spsolve\n",
    "\n",
    "def all_edges(t,p):\n",
    "    # Find all unique edges in the triangulation t (ne-by-2 array)\n",
    "    # Second output is indices to the boundary edges.\n",
    "    edges = np.vstack((t[:,[0,1]], t[:,[1,2]], t[:,[2,0]]))\n",
    "    key = edges.min(axis=1) + edges.max(axis=1) * p.shape[0]\n",
    "    _, ix, counts = np.unique(key, return_index=True, return_counts=True)\n",
    "    return edges[ix, :], np.where(counts == 1)\n",
    "\n",
    "def boundary_nodes(t,p):\n",
    "    # Find all boundary nodes in the triangulation t\n",
    "    edges, boundary_indices = all_edges(t,p)\n",
    "    return np.unique(edges[boundary_indices, :].flatten())\n",
    "\n",
    "def boundary_edges(t,p):\n",
    "    # Find all boundary edges in the triangulation t\n",
    "    edges, boundary_indices = all_edges(t,p)\n",
    "    return edges[boundary_indices, :]\n",
    "\n",
    "def tplot(p, t, u=None):\n",
    "    # Plot triangular mesh p, t, or contour plot if solution u is provided\n",
    "    plt.clf()\n",
    "    plt.axis('equal')\n",
    "    if u is None:\n",
    "        plt.tripcolor(p[:,0], p[:,1], t, 0*t[:,0], cmap='Set3',\n",
    "                      edgecolors='k', linewidth=1)\n",
    "    else:\n",
    "        plt.tricontourf(p[:,0], p[:,1], t, u, 20)\n",
    "        plt.colorbar()\n",
    "    plt.draw()\n",
    "\n",
    "def unique_rows(A, return_index=False, return_inverse=False):\n",
    "    \"\"\"\n",
    "    Similar to MATLAB's unique(A, 'rows'), this returns B, I, J\n",
    "    where B is the unique rows of A and I and J satisfy\n",
    "    A = B[J,:] and B = A[I,:]\n",
    "    Returns I if return_index is True\n",
    "    Returns J if return_inverse is True\n",
    "    \"\"\"\n",
    "    A = np.require(A, requirements='C')\n",
    "    assert A.ndim == 2, \"array must be 2-dim'l\"\n",
    "\n",
    "    orig_dtype = A.dtype\n",
    "    ncolumns = A.shape[1]\n",
    "    dtype = np.dtype((np.character, orig_dtype.itemsize*ncolumns))\n",
    "    B, I, J = np.unique(A.view(dtype),\n",
    "                        return_index=True,\n",
    "                        return_inverse=True)\n",
    "\n",
    "    B = B.view(orig_dtype).reshape((-1, ncolumns), order='C')\n",
    "\n",
    "    # There must be a better way to do this:\n",
    "    if (return_index):\n",
    "        if (return_inverse):\n",
    "            return B, I, J\n",
    "        else:\n",
    "            return B, I\n",
    "    else:\n",
    "        if (return_inverse):\n",
    "            return B, J\n",
    "        else:\n",
    "            return B"
   ]
  },
  {
   "cell_type": "markdown",
   "metadata": {},
   "source": [
    "find triangle's centroid tcenter [Ux,Uy]"
   ]
  },
  {
   "cell_type": "code",
   "execution_count": 2,
   "metadata": {
    "collapsed": false
   },
   "outputs": [],
   "source": [
    "def trcent (point,tr):\n",
    "    pt1 = [(point[tr[0],0]), (point[tr[0],1])]\n",
    "    pt2 = [(point[tr[1],0]), (point[tr[1],1])]\n",
    "    pt3 = [(point[tr[2],0]), (point[tr[2],1])]        \n",
    "    tcenter = [((pt1[0] + pt2[0] + pt3[0])/3), ((pt1[1]+pt2[1]+pt3[1])/3)]\n",
    "    return tcenter"
   ]
  },
  {
   "cell_type": "markdown",
   "metadata": {},
   "source": [
    "check if triangles in connection table are inside polygon, eliminate if outside."
   ]
  },
  {
   "cell_type": "code",
   "execution_count": 3,
   "metadata": {
    "collapsed": false
   },
   "outputs": [],
   "source": [
    "from matplotlib.path import Path\n",
    "import numpy as np\n",
    "\n",
    "def inboundary(pv,point,DT):\n",
    "    conn = np.zeros((1,3)).astype(int)\n",
    "    path = Path(pv)\n",
    "    \n",
    "    for i in range (0, len(DT)):\n",
    "        # take triangles from connection table, call them t\n",
    "        tr = [(DT[i,0]), (DT[i,1]), (DT[i,2])]\n",
    "        \n",
    "        tcenter = trcent(point,tr)\n",
    "        \n",
    "        IN = path.contains_point(tcenter)\n",
    "        \n",
    "        if(IN == 1):\n",
    "            conn = np.append(conn, [tr], axis=0)\n",
    "    conn = np.delete(conn, (0), axis=0)   \n",
    "    return conn"
   ]
  },
  {
   "cell_type": "markdown",
   "metadata": {},
   "source": [
    "find maximum area in all triangles in connection table, find the index of max area triangle"
   ]
  },
  {
   "cell_type": "code",
   "execution_count": 4,
   "metadata": {
    "collapsed": false
   },
   "outputs": [],
   "source": [
    "def area_max(point,DT):\n",
    "    ar = [0]\n",
    "    #ar = np.array((0))\n",
    "    armax = 0.0\n",
    "    for i in range (0, len(DT)):               \n",
    "        pt1 = [(point[DT[i,0],0]), (point[DT[i,0],1])]\n",
    "        pt2 = [(point[DT[i,1],0]), (point[DT[i,1],1])]\n",
    "        pt3 = [(point[DT[i,2],0]), (point[DT[i,2],1])]\n",
    "        \n",
    "        ar.append(abs(((pt1[0]*(pt2[1]-pt3[1]))+(pt2[0]*(pt3[1]-pt1[1]))+(pt3[0]*(pt1[1]-pt2[1])))/2))\n",
    "    ar = np.delete(ar, 0, axis=0)\n",
    "    \n",
    "    indx = np.argmax(ar)\n",
    "    armax = ar[indx]\n",
    "    return armax,indx"
   ]
  },
  {
   "cell_type": "markdown",
   "metadata": {},
   "source": [
    "find circumcenter c [Ux,Uy] of any trinagle with verticies pt1[Ux,Uy], pt2[Ux,Uy], pt3[Ux,Uy]"
   ]
  },
  {
   "cell_type": "code",
   "execution_count": 5,
   "metadata": {
    "collapsed": false
   },
   "outputs": [],
   "source": [
    "def circumfind(pt1,pt2,pt3):\n",
    "    \n",
    "    D = 2*(pt1[0]*(pt2[1]-pt3[1])+pt2[0]*(pt3[1]-pt1[1])+pt3[0]*(pt1[1]-pt2[1]))\n",
    "    Ux = ((pt1[0]**2+pt1[1]**2)*(pt2[1]-pt3[1])+(pt2[0]**2+pt2[1]**2)*(pt3[1]-pt1[1])+(pt3[0]**2+pt3[1]**2)*(pt1[1]-pt2[1]))/D\n",
    "    Uy = ((pt1[0]**2+pt1[1]**2)*(pt3[0]-pt2[0])+(pt2[0]**2+pt2[1]**2)*(pt1[0]-pt3[0])+(pt3[0]**2+pt3[1]**2)*(pt2[0]-pt1[0]))/D\n",
    "    c = [(Ux),(Uy)]\n",
    "    \n",
    "    return c"
   ]
  },
  {
   "cell_type": "markdown",
   "metadata": {},
   "source": [
    "find mid points mid1[Ux,Uy], mid2[Ux,Uy], mid3[Ux,Uy] of each side in a trinagle of verticies pt1[Ux,Uy], pt2[Ux,Uy], pt3[Ux,Uy]"
   ]
  },
  {
   "cell_type": "code",
   "execution_count": 6,
   "metadata": {
    "collapsed": false
   },
   "outputs": [],
   "source": [
    "def midfind(pt1,pt2,pt3):\n",
    "    \n",
    "    mid1 = [(pt1[0] + pt2[0])/2, (pt1[1]+pt2[1])/2]\n",
    "    mid2 = [(pt2[0] + pt3[0])/2, (pt2[1]+pt3[1])/2]\n",
    "    mid3 = [(pt3[0] + pt1[0])/2, (pt3[1]+pt1[1])/2]\n",
    "    return mid1,mid2,mid3"
   ]
  },
  {
   "cell_type": "markdown",
   "metadata": {},
   "source": [
    "meshing of whole domain. first find circumcenter of largest triangle and add it to list of points. then triangulate and eliminate triangles outside boundaries"
   ]
  },
  {
   "cell_type": "code",
   "execution_count": 7,
   "metadata": {
    "collapsed": false
   },
   "outputs": [],
   "source": [
    "def mesh_it(armax,indx,hmax,p,t,pv):\n",
    "    while (armax > (hmax**2/2)):\n",
    "        #finding triangle verticies\n",
    "        pt1 = [(p[t[indx,0],0]), (p[t[indx,0],1])]\n",
    "        pt2 = [(p[t[indx,1],0]), (p[t[indx,1],1])]\n",
    "        pt3 = [(p[t[indx,2],0]), (p[t[indx,2],1])]\n",
    "        #finding triangle circumcenter\n",
    "        circumcenter = circumfind(pt1,pt2,pt3)\n",
    "        # add circumcenter to list of points\n",
    "        p = np.append(p, [circumcenter], axis=0)\n",
    "        #triangulate again after adding the circumcenter of largest triangle        \n",
    "        t = tri.Triangulation(p[:,0], p[:,1]).triangles\n",
    "        t = inboundary(pv,p,t)\n",
    "        armax,indx = area_max(p,t)\n",
    "        \n",
    "    return p,t"
   ]
  },
  {
   "cell_type": "markdown",
   "metadata": {},
   "source": [
    "refine the mesh. finds the mid points of all triangles, add it to list of points, triangulate and remove outside triangles"
   ]
  },
  {
   "cell_type": "code",
   "execution_count": 8,
   "metadata": {
    "collapsed": false
   },
   "outputs": [],
   "source": [
    "def refine_it(p,t,pv):\n",
    "    p1 = np.zeros((0,2))\n",
    "    # creating nodes on boundaries\n",
    "    \n",
    "    for i in range(0, len(t)):\n",
    "        tr = [(t[i,0]), (t[i,1]), (t[i,2])]\n",
    "        #finding triangle verticies\n",
    "        pt1 = [(p[tr[0],0]), (p[tr[0],1])]\n",
    "        pt2 = [(p[tr[1],0]), (p[tr[1],1])]\n",
    "        pt3 = [(p[tr[2],0]), (p[tr[2],1])]\n",
    "        #find mid points\n",
    "        mid1,mid2,mid3 = midfind(pt1,pt2,pt3)\n",
    "           \n",
    "        # p is the new points table\n",
    "        p1 = np.append(p1, [mid1], axis=0)\n",
    "        p1 = np.append(p1, [mid2], axis=0)\n",
    "        p1 = np.append(p1, [mid3], axis=0)\n",
    "    # removing doublicate points\n",
    "    p1 = unique_rows(p1) #instead I will use the below function\n",
    "    p = np.append(p, p1, axis=0)\n",
    "    #p = unique_rows(p)\n",
    "    #p = DataFrame(p).drop_duplicates().values\n",
    "    #triangulate p to create connection table t\n",
    "    t = tri.Triangulation(p[:,0], p[:,1]).triangles\n",
    "    # finding if triangles inside boundary\n",
    "    t = inboundary(pv,p,t)\n",
    "    #t = unique_rows(t)\n",
    "    return p,t"
   ]
  },
  {
   "cell_type": "code",
   "execution_count": 9,
   "metadata": {
    "collapsed": false
   },
   "outputs": [],
   "source": [
    "def pmesh(pv,hmax,nref):\n",
    "    \n",
    "    x = [0]\n",
    "    y = [0]\n",
    "    #circlist = [0]\n",
    "    # creating nodes on boundaries\n",
    "    for i in range(0, (len(pv)-1)):\n",
    "        \n",
    "        x1 = pv[i,0]\n",
    "        y1 = pv[i,1]\n",
    "        x2 = pv[i+1,0]\n",
    "        y2 = pv[i+1,1]\n",
    "        l = np.sqrt((x2-x1)**2 + (y2-y1)**2)\n",
    "        m = np.ceil(l/hmax)\n",
    "        x0 = np.linspace(x1,x2,m+1)\n",
    "        y0 = np.linspace(y1,y2,m+1)\n",
    "        x.extend(x0)\n",
    "        y.extend(y0)\n",
    "    point = np.vstack([x,y])\n",
    "    # p is the new points table [x,y] coordinates\n",
    "    p = point.T\n",
    "    # removing doublicate points\n",
    "    p = unique_rows(p)\n",
    "    #p = DataFrame(p).drop_duplicates().values\n",
    "    #triangulate p to create connection table t\n",
    "    t = tri.Triangulation(p[:,0], p[:,1]).triangles\n",
    "    # finding if triangles inside boundary\n",
    "    t = inboundary(pv,p,t)\n",
    "    # finding area of all triangles and maximum + index relating to maximum\n",
    "    # here where I discovered unique_rows messed up my p \n",
    "    # print(p)\n",
    "    armax,indx = area_max(p,t)\n",
    "    # meshing the domain\n",
    "    p,t = mesh_it(armax,indx,hmax,p,t,pv)\n",
    "    #refining the domain if href >= 1\n",
    "    if (nref >= 1):\n",
    "        for i in range (0, nref):\n",
    "            p,t = refine_it(p,t,pv)\n",
    "            armax,indx = area_max(p,t)\n",
    "            p,t = mesh_it(armax,indx,hmax,p,t,pv)\n",
    "    e = boundary_nodes(t,p)\n",
    "    #print(p)\n",
    "    return p,t,e"
   ]
  },
  {
   "cell_type": "code",
   "execution_count": 10,
   "metadata": {
    "collapsed": false
   },
   "outputs": [],
   "source": [
    "def waveguide_edges(p,t):\n",
    "    xin = [0] \n",
    "    yin = [0]\n",
    "    xout = [0]\n",
    "    yout = [0]\n",
    "    xwall = [0]\n",
    "    ywall = [0]\n",
    "    e = boundary_edges(t,p)\n",
    "    e = e[0]\n",
    "    L = len(e)\n",
    "    for i in range(0,L):\n",
    "        if (p[e[i,0],0] == 0.0 and p[e[i,1],0] == 0.0):\n",
    "            xin.append(e[i,0])\n",
    "            yin.append(e[i,1])    \n",
    "        if (p[e[i,0],0] == 5.0 and p[e[i,1],0] == 5.0): \n",
    "            xout.append(e[i,0])\n",
    "            yout.append(e[i,1])     \n",
    "        if (p[e[i,0],1] == 0.0 and p[e[i,1],1] == 0.0 or p[e[i,0],1] == 1.0 and p[e[i,1],1] == 1.0):\n",
    "            xwall.append(e[i,0])\n",
    "            ywall.append(e[i,1])\n",
    "    ein = np.vstack([xin,yin])\n",
    "    ein = ein.T\n",
    "    ein = np.delete(ein, (0), axis=0)\n",
    "    eout = np.vstack([xout,yout])\n",
    "    eout = eout.T\n",
    "    eout = np.delete(eout, (0), axis=0)    \n",
    "    ewall = np.vstack([xwall,ywall])\n",
    "    ewall = ewall.T\n",
    "    ewall = np.delete(ewall, (0), axis=0) \n",
    "    return ein, eout, ewall"
   ]
  },
  {
   "cell_type": "code",
   "execution_count": 11,
   "metadata": {
    "collapsed": false
   },
   "outputs": [],
   "source": [
    "def femhelmholtz(p,t,ein,eout):\n",
    "    N = p.shape[0]\n",
    "    K = sps.lil_matrix((N, N))\n",
    "    M = sps.lil_matrix((N, N))\n",
    "    Bin  = sps.lil_matrix((N, N))\n",
    "    Bout = sps.lil_matrix((N, N))\n",
    "    bi = np.zeros((N,1))\n",
    "    Q2 = np.array([[1./12,1./24,1./24],[1./24,1./12,1./24],[1./24,1./24,1./12]])  # 3x3 matrix to calculate M matrix\n",
    "    Q3 = np.array([[1./3,1./6],[1./6,1./3]])  # 2x2 matrix to calculate Bin and Bout matrices \n",
    "    Q4 = np.array([[1./2],[1./2]])  # 2x1 matrix to calculate bi matrix \n",
    "    \n",
    "    for el in t:\n",
    "        Q = np.hstack((np.ones((3,1)), p[el,:]))\n",
    "        Area = abs(np.linalg.det(Q)) / 2.0\n",
    "        c = np.linalg.inv(Q)\n",
    "        Ah = Area * (np.outer(c[1,:], c[1,:]) + np.outer(c[2,:], c[2,:]))\n",
    "        K[np.ix_(el,el)] += Ah\n",
    "        Mh = Area * 2.0 * Q2\n",
    "        M[np.ix_(el,el)] += Mh    \n",
    "    for el in ein:\n",
    "        # d = np.linalg.norm(p[el[0],:]-p[el[1],:], ord=2)\n",
    "        d = np.sqrt((p[el[0],0]-p[el[1],0])**2+(p[el[0],1]-p[el[1],1])**2)\n",
    "        Binh = d * Q3\n",
    "        Bin[np.ix_(el,el)] += Binh\n",
    "        bih = d * Q4\n",
    "        bi[np.ix_(el)] += bih\n",
    "    for el in eout:\n",
    "        d = np.sqrt((p[el[0],0]-p[el[1],0])**2+(p[el[0],1]-p[el[1],1])**2)\n",
    "        Bouth = d * Q3\n",
    "        Bout[np.ix_(el,el)] += Bouth\n",
    "    \n",
    "    return K,M,Bin,Bout,bi"
   ]
  },
  {
   "cell_type": "markdown",
   "metadata": {},
   "source": [
    "## a."
   ]
  },
  {
   "cell_type": "code",
   "execution_count": 12,
   "metadata": {
    "collapsed": false
   },
   "outputs": [],
   "source": [
    "hmax = 0.2\n",
    "nref = 2\n",
    "pv = np.array([[0.0,0.0],[5.0,0.0],[5.0,1.0],[3.1,1.0],[3.1,0.2],[2.9,0.2],[2.9,1.0],[2.1,1.0],[2.1,0.2],[1.9,0.2],[1.9,1.0],[0.0,1.0],[0.0,0.0]])\n",
    "p,t,e = pmesh(pv,hmax,nref)\n",
    "ein,eout,ewall = waveguide_edges(p,t)\n",
    "K,M,Bin,Bout,bi = femhelmholtz(p,t,ein,eout)"
   ]
  },
  {
   "cell_type": "markdown",
   "metadata": {},
   "source": [
    "## b."
   ]
  },
  {
   "cell_type": "code",
   "execution_count": 13,
   "metadata": {
    "collapsed": false
   },
   "outputs": [
    {
     "name": "stderr",
     "output_type": "stream",
     "text": [
      "C:\\Anaconda3\\lib\\site-packages\\IPython\\kernel\\__main__.py:13: ComplexWarning: Casting complex values to real discards the imaginary part\n"
     ]
    }
   ],
   "source": [
    "k = 6 # starting wave number\n",
    "k2 = 6.5 # ending wave number\n",
    "dk = 0.01\n",
    "m = int((k2-k)/dk)\n",
    "H = np.zeros((m+1))\n",
    "kmat = np.zeros((m+1))\n",
    "\n",
    "#looping over k\n",
    "for i in range(0, m+1):\n",
    "    A = K - k**2 * M + 1j* k*(Bin+Bout) \n",
    "    b = bi *2*k*1j\n",
    "    u = spsolve(A.tocsc(), b) \n",
    "    H[i] = (np.ndarray.conj(u)).dot(Bout.dot(u))\n",
    "    kmat[i] = k\n",
    "    k = k + dk\n"
   ]
  },
  {
   "cell_type": "code",
   "execution_count": 14,
   "metadata": {
    "collapsed": false
   },
   "outputs": [
    {
     "data": {
      "image/png": "[encoded data removed]",
      "text/plain": [
       "<matplotlib.figure.Figure at 0x7bf1cc0>"
      ]
     },
     "metadata": {},
     "output_type": "display_data"
    }
   ],
   "source": [
    "plt.title('H vs. k')\n",
    "plt.semilogy(kmat,H,lw=2)\n",
    "plt.show()"
   ]
  },
  {
   "cell_type": "markdown",
   "metadata": {},
   "source": [
    "## c."
   ]
  },
  {
   "cell_type": "markdown",
   "metadata": {},
   "source": [
    "first we find the index in H matrix corresponds to max H, and index of min H"
   ]
  },
  {
   "cell_type": "code",
   "execution_count": 15,
   "metadata": {
    "collapsed": false
   },
   "outputs": [],
   "source": [
    "Hmaxi = np.argmax(H) # index for max H\n",
    "Hmini = np.argmin(H) # index for min H"
   ]
  },
  {
   "cell_type": "code",
   "execution_count": 16,
   "metadata": {
    "collapsed": false
   },
   "outputs": [
    {
     "name": "stdout",
     "output_type": "stream",
     "text": [
      "13 36\n"
     ]
    }
   ],
   "source": [
    "print(Hmaxi,Hmini)"
   ]
  },
  {
   "cell_type": "markdown",
   "metadata": {},
   "source": [
    "find the corresponding k for min H and max H. call it kmin and kmax "
   ]
  },
  {
   "cell_type": "code",
   "execution_count": 17,
   "metadata": {
    "collapsed": false
   },
   "outputs": [],
   "source": [
    "kmax = kmat[Hmaxi]\n",
    "kmin = kmat[Hmini]"
   ]
  },
  {
   "cell_type": "code",
   "execution_count": 18,
   "metadata": {
    "collapsed": false
   },
   "outputs": [
    {
     "name": "stdout",
     "output_type": "stream",
     "text": [
      "6.13 6.36\n"
     ]
    }
   ],
   "source": [
    "print(kmax,kmin)"
   ]
  },
  {
   "cell_type": "code",
   "execution_count": 19,
   "metadata": {
    "collapsed": false
   },
   "outputs": [],
   "source": [
    "A = K - kmax**2 * M + 1j* kmax*(Bin+Bout) \n",
    "b = bi *2*kmax*1j\n",
    "umax = spsolve(A.tocsc(), b)"
   ]
  },
  {
   "cell_type": "code",
   "execution_count": 20,
   "metadata": {
    "collapsed": false
   },
   "outputs": [
    {
     "data": {
      "image/png": "[encoded data removed]",
      "text/plain": [
       "<matplotlib.figure.Figure at 0x83d3048>"
      ]
     },
     "metadata": {},
     "output_type": "display_data"
    }
   ],
   "source": [
    "tplot(p,t,umax.real)"
   ]
  },
  {
   "cell_type": "code",
   "execution_count": 21,
   "metadata": {
    "collapsed": false
   },
   "outputs": [],
   "source": [
    "A = K - kmin**2 * M + 1j* kmin*(Bin+Bout) \n",
    "b = bi *2*kmin*1j\n",
    "umin = spsolve(A.tocsc(), b)"
   ]
  },
  {
   "cell_type": "code",
   "execution_count": 22,
   "metadata": {
    "collapsed": false
   },
   "outputs": [
    {
     "data": {
      "image/png": "[encoded data removed]",
      "text/plain": [
       "<matplotlib.figure.Figure at 0x941df98>"
      ]
     },
     "metadata": {},
     "output_type": "display_data"
    }
   ],
   "source": [
    "tplot(p,t,umin.real)"
   ]
  }
 ],
 "metadata": {
  "kernelspec": {
   "display_name": "Python 3",
   "language": "python",
   "name": "python3"
  },
  "language_info": {
   "codemirror_mode": {
    "name": "ipython",
    "version": 3
   },
   "file_extension": ".py",
   "mimetype": "text/x-python",
   "name": "python",
   "nbconvert_exporter": "python",
   "pygments_lexer": "ipython3",
   "version": "3.4.1"
  }
 },
 "nbformat": 4,
 "nbformat_minor": 0
}
