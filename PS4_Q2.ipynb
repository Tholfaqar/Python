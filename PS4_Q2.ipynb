{
 "metadata": {
  "name": "",
  "signature": "sha256:7ab80263a0d082f88678eb9768feb0d7ba37d67dad82d6543c3ba71b55089648"
 },
 "nbformat": 3,
 "nbformat_minor": 0,
 "worksheets": [
  {
   "cells": [
    {
     "cell_type": "markdown",
     "metadata": {},
     "source": [
      "## Question 2"
     ]
    },
    {
     "cell_type": "code",
     "collapsed": false,
     "input": [
      "def find_F(rho,rho_max,u_max,f):\n",
      "    \n",
      "    Rl = rho[:-1]\n",
      "    Rr = rho[1:]\n",
      "    f_rho = f(rho)\n",
      "    fl = f_rho[:-1]\n",
      "    fr = f_rho[1:]\n",
      "    min_fvals = np.minimum(fl, fr)\n",
      "    max_fvals = np.maximum(fl, fr)\n",
      "    F = np.where(Rl < Rr, min_fvals, max_fvals)\n",
      "    D = (Rr < 0.5 * rho_max) & (0.5 * rho_max < Rl)\n",
      "    F[np.where(D)] = f(rho_max/2) \n",
      "    \n",
      "    return F"
     ],
     "language": "python",
     "metadata": {},
     "outputs": [],
     "prompt_number": 3
    },
    {
     "cell_type": "code",
     "collapsed": false,
     "input": [
      "%matplotlib inline\n",
      "import numpy as np\n",
      "import matplotlib.pyplot as plt\n",
      "\n",
      "rho_max = u_max = 1.0\n",
      "rhoL = rho_max/2\n",
      "\n",
      "dx = 4/400\n",
      "dt = 0.8*dx/u_max\n",
      "dt_dx = dt/dx\n",
      "m = 400\n",
      "\n",
      "x = dx * np.arange(1, m + 1, dtype=np.float64) - dx/2-2\n",
      "f = lambda r: r * u_max * (1 - r / rho_max)\n",
      "T = 2.0\n",
      "T1 = 1.0\n",
      "nsteps = int(round(T/dt))\n",
      "\n",
      "rho = np.zeros((m))\n",
      "rho = np.double(x < dx) *rhoL\n",
      "\n",
      "qdot = 0.0\n",
      "qdot0 = 1.0\n",
      "a = 1\n",
      "# calculating the qdot\n",
      "while(qdot0 != qdot):\n",
      "    qdot0 = qdot\n",
      "    qdot = 0.0\n",
      "    for j in range (0,nsteps):\n",
      "        F = find_F(rho,rho_max,u_max,f)\n",
      "        if (j*dt < T1):  # adding traffic light at location x = -dx/2 (i = 199 in x vector)\n",
      "            F[199] = 0.0\n",
      "        rho[1:-1] = rho[1:-1] - dt_dx * (F[1:] - F[:-1])\n",
      "        qdot = qdot + F[m/2+1]\n",
      "    qdot = qdot/nsteps\n",
      "    a = a +1\n",
      "print(qdot)\n",
      "print('while loops=',a)\n",
      "plt.title('rho vs x - Gudonov scheme')\n",
      "L1,=plt.plot(x,rho,label='rho final',lw=2)\n",
      "Leg1=plt.legend(handles=[L1],loc=1)\n",
      "plt.show()"
     ],
     "language": "python",
     "metadata": {},
     "outputs": [
      {
       "output_type": "stream",
       "stream": "stdout",
       "text": [
        "0.125\n",
        "while loops= 4\n"
       ]
      },
      {
       "metadata": {},
       "output_type": "display_data",
       "png": "[encoded data removed]",
       "text": [
        "<matplotlib.figure.Figure at 0x51d78d0>"
       ]
      }
     ],
     "prompt_number": 4
    }
   ],
   "metadata": {}
  }
 ]
}