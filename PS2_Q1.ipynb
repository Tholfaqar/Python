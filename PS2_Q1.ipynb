{
 "cells": [
  {
   "cell_type": "markdown",
   "metadata": {},
   "source": [
    "## a."
   ]
  },
  {
   "cell_type": "markdown",
   "metadata": {},
   "source": [
    "calculate the accuracy of leapfrog method"
   ]
  },
  {
   "cell_type": "markdown",
   "metadata": {},
   "source": [
    "$U^{n+1}_j - U^{n-1}_{j-2} = -(\\frac{ak}{h}-1)(U^n_j-U^n_{j-2})  .....(1)$\n",
    "\n",
    "deviding both sides by k:\n",
    "\n",
    "$\\frac{U^{n+1}_j - U^{n-1}_{j-2}}{k} = -(\\frac{a}{h}-\\frac{1}{k})(U^n_j-U^n_{j-2}) .....(2)$\n",
    "\n",
    "descrtizing U's using Tylor series:"
   ]
  },
  {
   "cell_type": "markdown",
   "metadata": {},
   "source": [
    "$U^{n+1}_j = u(x,t+k) = u(x,t) + ku_t + \\frac{k^2}{2}u_{tt} + \\frac{k^3}{6}u_{ttt}$\n",
    "\n",
    "$U^{n-1}_{j-2} = u(x-2h,t-k) $ \n",
    "\n",
    "$= u(x,t) - ku_t + \\frac{k^2}{2}u_{tt} - \\frac{k^3}{6}u_{ttt} - 2hu_x + \\frac{4h^2}{2}u_{xx}-\\frac{8h^3}{6}u_{xxx} + \\frac{2*2hk}{2}u_{xt} - \\frac{3*4*h^2k}{6}u_{xxt} - \\frac{3*2hk^2}{6}u_{xtt}$\n",
    "\n",
    "$U^n_j = u(x,t)$\n",
    "\n",
    "$U^n_{j-2} = u(x-2h,t) = u(x,t) - 2hu_x + \\frac{4h^2}{2}u_{xx} - \\frac{8h^3}{6}u_{xxx}$"
   ]
  },
  {
   "cell_type": "markdown",
   "metadata": {},
   "source": [
    "substituting in (2) yields:\n",
    "\n",
    "$\\frac{u(x,t) + ku_t + \\frac{k^2}{2}u_{tt} + \\frac{k^3}{6}u_{ttt} - u(x,t) + ku_t - \\frac{k^2}{2}u_{tt} + \\frac{k^3}{6}u_{ttt} + 2hu_x - \\frac{4h^2}{2}u_{xx} +\\frac{8h^3}{6}u_{xxx} -\\frac{2*2hk}{2}u_{xt} + \\frac{3*4*h^2k}{6}u_{xxt} +\\frac{3*2hk^2}{6}u_{xtt}}{k} $\n",
    "$= -(\\frac{a}{h}-\\frac{1}{k})(u(x,t)- u(x,t) + 2hu_x - \\frac{4h^2}{2}u_{xx} + \\frac{8h^3}{6}u_{xxx}) $"
   ]
  },
  {
   "cell_type": "markdown",
   "metadata": {},
   "source": [
    "simplifying terms \n",
    "\n",
    "$\\frac{2ku_t + \\frac{k^3}{3}u_{ttt} + 2hu_x - \\frac{4h^2}{2}u_{xx} +\\frac{8h^3}{6}u_{xxx} -\\frac{2*2hk}{2}u_{xt} + \\frac{3*4*h^2k}{6}u_{xxt} +\\frac{3*2hk^2}{6}u_{xtt}}{k} $"
   ]
  },
  {
   "cell_type": "markdown",
   "metadata": {},
   "source": [
    "$= -(2au_x - 2ahu_{xx} + \\frac{4ah^2}{3}u_{xxx} -\\frac{2h}{k}u_x + \\frac{2h^2}{k}u_{xx} - \\frac{4h^3}{3k}u_{xxx})$  ....(3) "
   ]
  },
  {
   "cell_type": "markdown",
   "metadata": {},
   "source": [
    "moving (3) to right hand side:\n",
    "\n",
    "$\\tau (x,t) = \\frac{2ku_t + \\frac{k^3}{3}u_{ttt} + 2hu_x - \\frac{4h^2}{2}u_{xx} +\\frac{8h^3}{6}u_{xxx} -\\frac{2*2hk}{2}u_{xt} + \\frac{3*4*h^2k}{6}u_{xxt} +\\frac{3*2hk^2}{6}u_{xtt}}{k} + 2au_x - 2ahu_{xx} + \\frac{4ah^2}{3}u_{xxx} -\\frac{2h}{k}u_x + \\frac{2h^2}{k}u_{xx} - \\frac{4h^3}{3k}u_{xxx}$"
   ]
  },
  {
   "cell_type": "markdown",
   "metadata": {},
   "source": [
    "simplifying: \n",
    "\n",
    "$\\tau (x,t) = 2u_t + \\frac{k^2}{3}u_{ttt} + \\frac{2h}{k}u_x - 2hu_{xt} + 2h^2u_{xxt} + hku_{xtt} + 2au_x - 2ahu_{xx} + \\frac{4ah^2}{3}u_{xxx} -\\frac{2h}{k}u_x $"
   ]
  },
  {
   "cell_type": "markdown",
   "metadata": {},
   "source": [
    "by definition: $u_t+ au_x = 0 $ also $u_{xt}+au_{xx} = 0 $"
   ]
  },
  {
   "cell_type": "markdown",
   "metadata": {},
   "source": [
    "$\\tau (x,t) = 2(u_t+au_x) - 2h(u_{xt} + au_{xx}) + \\frac{k^2}{3}u_{ttt} + 2h^2u_{xxt} + hku_{xtt} + \\frac{4ah^2}{3}u_{xxx} + (\\frac{2h}{k}u_x -\\frac{2h}{k}u_x) $"
   ]
  },
  {
   "cell_type": "markdown",
   "metadata": {},
   "source": [
    "removing zero and $+ \\frac{2h}{k}u_x -\\frac{2h}{k}u_x $ terms:\n",
    "\n",
    "$\\tau (x,t) = \\frac{k^2}{3}u_{ttt} + 2h^2u_{xxt} + hku_{xtt} + \\frac{4ah^2}{3}u_{xxx} $"
   ]
  },
  {
   "cell_type": "markdown",
   "metadata": {},
   "source": [
    "simplifying: \n",
    "\n",
    "$\\tau (x,t) = 2h^2(u_{xxt} + \\frac{2a}{3}u_{xxx}) + \\frac{k^2}{3}u_{ttt} + hku_{xtt}  $"
   ]
  },
  {
   "cell_type": "markdown",
   "metadata": {},
   "source": [
    "let $ c = \\frac{k}{h} $ and $k = ch $  "
   ]
  },
  {
   "cell_type": "markdown",
   "metadata": {},
   "source": [
    "$\\tau (x,t) = 2h^2(u_{xxt} + \\frac{2a}{3}u_{xxx}) + \\frac{c^2h^2}{3}u_{ttt} + h^2cu_{xtt}  $"
   ]
  },
  {
   "cell_type": "markdown",
   "metadata": {},
   "source": [
    "$\\tau (x,t) = h^2(2u_{xxt} + \\frac{4a}{3}u_{xxx} + \\frac{c^2}{3}u_{ttt} + cu_{xtt})  $ ....(4)"
   ]
  },
  {
   "cell_type": "markdown",
   "metadata": {},
   "source": [
    "as we can see from $\\tau$ contains $h^2$, this method is second order accurate for space."
   ]
  },
  {
   "cell_type": "markdown",
   "metadata": {},
   "source": [
    "let $h = c k$, substituting in (4):\n",
    "\n",
    "$\\tau (x,t) = c^2k^2(2u_{xxt} + \\frac{4a}{3}u_{xxx} + \\frac{c^2}{3}u_{ttt} + cu_{xtt})$\n",
    "\n",
    "this means leapfrog is second order accurate in time."
   ]
  },
  {
   "cell_type": "markdown",
   "metadata": {},
   "source": [
    "## b."
   ]
  },
  {
   "cell_type": "markdown",
   "metadata": {},
   "source": [
    "CFL condition,\n",
    "as in the textbook:\n",
    "\n",
    "if $u_{j}^{n+1}$ is computed based on values $u_{j+p+1}^{n}$, $u_{j+p+2}^{n}$, ..., $u_{j+q}^{n}$ with $p\\le q$ (negative values are allowed for p and q), we get $x_{j+p}\\le x_{j}-ak\\le x_{j+q}$ or the method cannot converge. \n",
    "\n",
    "Since $x_i=ih$, this\n",
    "requires $-q\\le \\frac{ak}{h}\\le p$. This leads to:\n",
    "\n",
    "The point hase been used in skew leapfrog method,\n",
    "$u_{j-2}^{n}$, $u_{j}^{n}$\n",
    "\n",
    "$p=-2$, $q=0$\n",
    "\n",
    "Courant number is:\n",
    "\n",
    "$0\\le\\nu\\le 2$"
   ]
  },
  {
   "cell_type": "markdown",
   "metadata": {},
   "source": [
    "## c."
   ]
  },
  {
   "cell_type": "markdown",
   "metadata": {},
   "source": [
    "Von Neumann analaysis for stability. \n",
    "\n",
    "Courant number: \n",
    "\n",
    "$\\nu=\\frac{ak}{h}$\n",
    "\n",
    "$U_{j}^{n+1}=U_{j-2}^{n-1}-(\\frac{ak}{h}-1)(U_{j}^{n}-U_{j-2}^{n})$\n",
    "\n",
    "let $U_{n}^{j}=g(\\xi)^ne^{ijh\\xi}$\n",
    "\n",
    "$g^{n+1}(\\xi)e^{ijh\\xi}=g^{n-1}(\\xi)e^{i(j-2)h\\xi}-(\\frac{ak}{h}-1)[g^{n}(\\xi)e^{ijh\\xi}-g^{n}(\\xi)e^{i(j-2)h\\xi}] \\Rightarrow$\n",
    "\n",
    "$g^{2}(\\xi)=e^{-i2h\\xi}-(\\frac{ak}{h}-1)g(\\xi)[1-e^{-i2h\\xi}]$\n",
    "Multiply by $e^{i2h\\xi}$, and set $\\gamma(\\xi)=e^{ih\\xi}g(\\xi)$,\n",
    "\n",
    "$g^{2}(\\xi)e^{i2h\\xi}=1-(\\frac{ak}{h}-1)g(\\xi)e^{i2h\\xi}[e^{ih\\xi}-e^{-ih\\xi}] \\Rightarrow \\gamma^{2}(\\xi)=1-(\\nu-1)\\gamma(\\xi)[e^{ih\\xi}-e^{-ih\\xi}]$\n",
    "\n",
    "Or:\n",
    "\n",
    "$\\gamma^2(\\xi)=1-i2(\\nu-1)\\gamma(\\xi)sinh(h\\xi)$\n",
    "\n",
    "$\\gamma^2(\\xi)=1-i2a\\gamma(\\xi)$\n",
    "\n",
    "where $a=(\\nu-1)sinh(h\\xi)$\n",
    "\n",
    "The solution to the quadratic equation is:\n",
    "\n",
    "$\\gamma=-ia\\pm \\sqrt{-a^2+1}$\n",
    "\n",
    "If $|a|>1 \\Rightarrow \\gamma=(-a\\pm \\sqrt{a^2-1})i \\Rightarrow |\\gamma|>1$\n",
    "\n",
    "If $|a|\\le 1 \\Rightarrow |\\gamma|=(Im (\\gamma))^2+(Re(\\gamma))^2=(a)^2+(1-a^2)=1$\n",
    "\n",
    "Given $|g(\\xi)|\\le 1$ and $|g(\\xi)|=|\\gamma(\\xi)|$\n",
    "\n",
    "The second condition for $a$ will satisfy this condition,\n",
    "\n",
    "$|a|\\le 1 \\Rightarrow |(\\nu-1)sinh(h\\xi)|\\le 1 \\Rightarrow -1\\le\\nu-1\\le 1 \\Rightarrow 0\\le\\nu\\le2$\n",
    "\n",
    "Finally the desired condition for Courant number:\n",
    "\n",
    "$0\\le\\nu\\le2$\n"
   ]
  }
 ],
 "metadata": {
  "kernelspec": {
   "display_name": "Python 3",
   "language": "python",
   "name": "python3"
  },
  "language_info": {
   "codemirror_mode": {
    "name": "ipython",
    "version": 3
   },
   "file_extension": ".py",
   "mimetype": "text/x-python",
   "name": "python",
   "nbconvert_exporter": "python",
   "pygments_lexer": "ipython3",
   "version": "3.4.1"
  }
 },
 "nbformat": 4,
 "nbformat_minor": 0
}
